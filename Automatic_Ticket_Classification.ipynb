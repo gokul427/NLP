{
 "cells": [
  {
   "cell_type": "markdown",
   "metadata": {
    "id": "rhR-ZUkwJrFn"
   },
   "source": [
    "## Problem Statement \n",
    "\n",
    "You need to build a model that is able to classify customer complaints based on the products/services. By doing so, you can segregate these tickets into their relevant categories and, therefore, help in the quick resolution of the issue.\n",
    "\n",
    "You will be doing topic modelling on the <b>.json</b> data provided by the company. Since this data is not labelled, you need to apply NMF to analyse patterns and classify tickets into the following five clusters based on their products/services:\n",
    "\n",
    "* Credit card / Prepaid card\n",
    "\n",
    "* Bank account services\n",
    "\n",
    "* Theft/Dispute reporting\n",
    "\n",
    "* Mortgages/loans\n",
    "\n",
    "* Others \n",
    "\n",
    "\n",
    "With the help of topic modelling, you will be able to map each ticket onto its respective department/category. You can then use this data to train any supervised model such as logistic regression, decision tree or random forest. Using this trained model, you can classify any new customer complaint support ticket into its relevant department."
   ]
  },
  {
   "cell_type": "markdown",
   "metadata": {
    "id": "mcgXVNyaLUFS"
   },
   "source": [
    "## Pipelines that needs to be performed:\n",
    "\n",
    "You need to perform the following eight major tasks to complete the assignment:\n",
    "\n",
    "1.  Data loading\n",
    "\n",
    "2. Text preprocessing\n",
    "\n",
    "3. Exploratory data analysis (EDA)\n",
    "\n",
    "4. Feature extraction\n",
    "\n",
    "5. Topic modelling \n",
    "\n",
    "6. Model building using supervised learning\n",
    "\n",
    "7. Model training and evaluation\n",
    "\n",
    "8. Model inference"
   ]
  },
  {
   "cell_type": "markdown",
   "metadata": {
    "id": "JuLFIymAL58u"
   },
   "source": [
    "## Importing the necessary libraries"
   ]
  },
  {
   "cell_type": "code",
   "execution_count": 1,
   "metadata": {
    "id": "O-Q9pqrcJrFr"
   },
   "outputs": [],
   "source": [
    "import json \n",
    "import numpy as np\n",
    "import pandas as pd\n",
    "import re, nltk, spacy, string\n",
    "import en_core_web_sm\n",
    "nlp = en_core_web_sm.load()\n",
    "import seaborn as sns\n",
    "import matplotlib.pyplot as plt\n",
    "%matplotlib inline\n",
    "\n",
    "from plotly.offline import plot\n",
    "import plotly.graph_objects as go\n",
    "import plotly.express as px\n",
    "\n",
    "from sklearn.feature_extraction.text import CountVectorizer, TfidfVectorizer, TfidfTransformer\n",
    "from pprint import pprint\n",
    "\n",
    "from nltk.corpus import stopwords\n",
    "\n",
    "from sklearn.model_selection import train_test_split, GridSearchCV, RandomizedSearchCV\n",
    "from sklearn.metrics import confusion_matrix, f1_score, classification_report\n",
    "\n",
    "from sklearn.linear_model import LogisticRegression\n",
    "\n",
    "import pickle\n",
    "import warnings\n",
    "warnings.simplefilter(action='ignore', category=FutureWarning)"
   ]
  },
  {
   "cell_type": "code",
   "execution_count": 2,
   "metadata": {},
   "outputs": [],
   "source": [
    "import swifter # to speed up pandas apply function"
   ]
  },
  {
   "cell_type": "markdown",
   "metadata": {
    "id": "KtRLCsNVJrFt"
   },
   "source": [
    "## Loading the data\n",
    "\n",
    "The data is in JSON format and we need to convert it to a dataframe."
   ]
  },
  {
   "cell_type": "code",
   "execution_count": 3,
   "metadata": {
    "id": "puVzIf_iJrFt"
   },
   "outputs": [],
   "source": [
    "# Opening JSON file \n",
    "with open(\"complaints.json\",\"r\") as f: \n",
    "    # returns JSON object as  \n",
    "    # a dictionary \n",
    "    data = json.load(f)\n",
    "    df=pd.json_normalize(data)"
   ]
  },
  {
   "cell_type": "markdown",
   "metadata": {
    "id": "_xYpH-sAJrFu"
   },
   "source": [
    "## Data preparation"
   ]
  },
  {
   "cell_type": "code",
   "execution_count": 4,
   "metadata": {
    "id": "Lf8ufHH5JrFu"
   },
   "outputs": [
    {
     "name": "stdout",
     "output_type": "stream",
     "text": [
      "(78313, 22)\n"
     ]
    },
    {
     "data": {
      "text/html": [
       "<div>\n",
       "<style scoped>\n",
       "    .dataframe tbody tr th:only-of-type {\n",
       "        vertical-align: middle;\n",
       "    }\n",
       "\n",
       "    .dataframe tbody tr th {\n",
       "        vertical-align: top;\n",
       "    }\n",
       "\n",
       "    .dataframe thead th {\n",
       "        text-align: right;\n",
       "    }\n",
       "</style>\n",
       "<table border=\"1\" class=\"dataframe\">\n",
       "  <thead>\n",
       "    <tr style=\"text-align: right;\">\n",
       "      <th></th>\n",
       "      <th>_index</th>\n",
       "      <th>_type</th>\n",
       "      <th>_id</th>\n",
       "      <th>_score</th>\n",
       "      <th>_source.tags</th>\n",
       "      <th>_source.zip_code</th>\n",
       "      <th>_source.complaint_id</th>\n",
       "      <th>_source.issue</th>\n",
       "      <th>_source.date_received</th>\n",
       "      <th>_source.state</th>\n",
       "      <th>...</th>\n",
       "      <th>_source.company_response</th>\n",
       "      <th>_source.company</th>\n",
       "      <th>_source.submitted_via</th>\n",
       "      <th>_source.date_sent_to_company</th>\n",
       "      <th>_source.company_public_response</th>\n",
       "      <th>_source.sub_product</th>\n",
       "      <th>_source.timely</th>\n",
       "      <th>_source.complaint_what_happened</th>\n",
       "      <th>_source.sub_issue</th>\n",
       "      <th>_source.consumer_consent_provided</th>\n",
       "    </tr>\n",
       "  </thead>\n",
       "  <tbody>\n",
       "    <tr>\n",
       "      <th>0</th>\n",
       "      <td>complaint-public-v2</td>\n",
       "      <td>complaint</td>\n",
       "      <td>3211475</td>\n",
       "      <td>0.0</td>\n",
       "      <td>None</td>\n",
       "      <td>90301</td>\n",
       "      <td>3211475</td>\n",
       "      <td>Attempts to collect debt not owed</td>\n",
       "      <td>2019-04-13T12:00:00-05:00</td>\n",
       "      <td>CA</td>\n",
       "      <td>...</td>\n",
       "      <td>Closed with explanation</td>\n",
       "      <td>JPMORGAN CHASE &amp; CO.</td>\n",
       "      <td>Web</td>\n",
       "      <td>2019-04-13T12:00:00-05:00</td>\n",
       "      <td>None</td>\n",
       "      <td>Credit card debt</td>\n",
       "      <td>Yes</td>\n",
       "      <td></td>\n",
       "      <td>Debt is not yours</td>\n",
       "      <td>Consent not provided</td>\n",
       "    </tr>\n",
       "    <tr>\n",
       "      <th>1</th>\n",
       "      <td>complaint-public-v2</td>\n",
       "      <td>complaint</td>\n",
       "      <td>3229299</td>\n",
       "      <td>0.0</td>\n",
       "      <td>Servicemember</td>\n",
       "      <td>319XX</td>\n",
       "      <td>3229299</td>\n",
       "      <td>Written notification about debt</td>\n",
       "      <td>2019-05-01T12:00:00-05:00</td>\n",
       "      <td>GA</td>\n",
       "      <td>...</td>\n",
       "      <td>Closed with explanation</td>\n",
       "      <td>JPMORGAN CHASE &amp; CO.</td>\n",
       "      <td>Web</td>\n",
       "      <td>2019-05-01T12:00:00-05:00</td>\n",
       "      <td>None</td>\n",
       "      <td>Credit card debt</td>\n",
       "      <td>Yes</td>\n",
       "      <td>Good morning my name is XXXX XXXX and I apprec...</td>\n",
       "      <td>Didn't receive enough information to verify debt</td>\n",
       "      <td>Consent provided</td>\n",
       "    </tr>\n",
       "    <tr>\n",
       "      <th>2</th>\n",
       "      <td>complaint-public-v2</td>\n",
       "      <td>complaint</td>\n",
       "      <td>3199379</td>\n",
       "      <td>0.0</td>\n",
       "      <td>None</td>\n",
       "      <td>77069</td>\n",
       "      <td>3199379</td>\n",
       "      <td>Other features, terms, or problems</td>\n",
       "      <td>2019-04-02T12:00:00-05:00</td>\n",
       "      <td>TX</td>\n",
       "      <td>...</td>\n",
       "      <td>Closed with explanation</td>\n",
       "      <td>JPMORGAN CHASE &amp; CO.</td>\n",
       "      <td>Web</td>\n",
       "      <td>2019-04-02T12:00:00-05:00</td>\n",
       "      <td>None</td>\n",
       "      <td>General-purpose credit card or charge card</td>\n",
       "      <td>Yes</td>\n",
       "      <td>I upgraded my XXXX XXXX card in XX/XX/2018 and...</td>\n",
       "      <td>Problem with rewards from credit card</td>\n",
       "      <td>Consent provided</td>\n",
       "    </tr>\n",
       "    <tr>\n",
       "      <th>3</th>\n",
       "      <td>complaint-public-v2</td>\n",
       "      <td>complaint</td>\n",
       "      <td>2673060</td>\n",
       "      <td>0.0</td>\n",
       "      <td>None</td>\n",
       "      <td>48066</td>\n",
       "      <td>2673060</td>\n",
       "      <td>Trouble during payment process</td>\n",
       "      <td>2017-09-13T12:00:00-05:00</td>\n",
       "      <td>MI</td>\n",
       "      <td>...</td>\n",
       "      <td>Closed with explanation</td>\n",
       "      <td>JPMORGAN CHASE &amp; CO.</td>\n",
       "      <td>Web</td>\n",
       "      <td>2017-09-14T12:00:00-05:00</td>\n",
       "      <td>None</td>\n",
       "      <td>Conventional home mortgage</td>\n",
       "      <td>Yes</td>\n",
       "      <td></td>\n",
       "      <td>None</td>\n",
       "      <td>Consent not provided</td>\n",
       "    </tr>\n",
       "    <tr>\n",
       "      <th>4</th>\n",
       "      <td>complaint-public-v2</td>\n",
       "      <td>complaint</td>\n",
       "      <td>3203545</td>\n",
       "      <td>0.0</td>\n",
       "      <td>None</td>\n",
       "      <td>10473</td>\n",
       "      <td>3203545</td>\n",
       "      <td>Fees or interest</td>\n",
       "      <td>2019-04-05T12:00:00-05:00</td>\n",
       "      <td>NY</td>\n",
       "      <td>...</td>\n",
       "      <td>Closed with explanation</td>\n",
       "      <td>JPMORGAN CHASE &amp; CO.</td>\n",
       "      <td>Referral</td>\n",
       "      <td>2019-04-05T12:00:00-05:00</td>\n",
       "      <td>None</td>\n",
       "      <td>General-purpose credit card or charge card</td>\n",
       "      <td>Yes</td>\n",
       "      <td></td>\n",
       "      <td>Charged too much interest</td>\n",
       "      <td>N/A</td>\n",
       "    </tr>\n",
       "  </tbody>\n",
       "</table>\n",
       "<p>5 rows × 22 columns</p>\n",
       "</div>"
      ],
      "text/plain": [
       "                _index      _type      _id  _score   _source.tags  \\\n",
       "0  complaint-public-v2  complaint  3211475     0.0           None   \n",
       "1  complaint-public-v2  complaint  3229299     0.0  Servicemember   \n",
       "2  complaint-public-v2  complaint  3199379     0.0           None   \n",
       "3  complaint-public-v2  complaint  2673060     0.0           None   \n",
       "4  complaint-public-v2  complaint  3203545     0.0           None   \n",
       "\n",
       "  _source.zip_code _source.complaint_id                       _source.issue  \\\n",
       "0            90301              3211475   Attempts to collect debt not owed   \n",
       "1            319XX              3229299     Written notification about debt   \n",
       "2            77069              3199379  Other features, terms, or problems   \n",
       "3            48066              2673060      Trouble during payment process   \n",
       "4            10473              3203545                    Fees or interest   \n",
       "\n",
       "       _source.date_received _source.state  ... _source.company_response  \\\n",
       "0  2019-04-13T12:00:00-05:00            CA  ...  Closed with explanation   \n",
       "1  2019-05-01T12:00:00-05:00            GA  ...  Closed with explanation   \n",
       "2  2019-04-02T12:00:00-05:00            TX  ...  Closed with explanation   \n",
       "3  2017-09-13T12:00:00-05:00            MI  ...  Closed with explanation   \n",
       "4  2019-04-05T12:00:00-05:00            NY  ...  Closed with explanation   \n",
       "\n",
       "        _source.company _source.submitted_via _source.date_sent_to_company  \\\n",
       "0  JPMORGAN CHASE & CO.                   Web    2019-04-13T12:00:00-05:00   \n",
       "1  JPMORGAN CHASE & CO.                   Web    2019-05-01T12:00:00-05:00   \n",
       "2  JPMORGAN CHASE & CO.                   Web    2019-04-02T12:00:00-05:00   \n",
       "3  JPMORGAN CHASE & CO.                   Web    2017-09-14T12:00:00-05:00   \n",
       "4  JPMORGAN CHASE & CO.              Referral    2019-04-05T12:00:00-05:00   \n",
       "\n",
       "  _source.company_public_response                         _source.sub_product  \\\n",
       "0                            None                            Credit card debt   \n",
       "1                            None                            Credit card debt   \n",
       "2                            None  General-purpose credit card or charge card   \n",
       "3                            None                  Conventional home mortgage   \n",
       "4                            None  General-purpose credit card or charge card   \n",
       "\n",
       "  _source.timely                    _source.complaint_what_happened  \\\n",
       "0            Yes                                                      \n",
       "1            Yes  Good morning my name is XXXX XXXX and I apprec...   \n",
       "2            Yes  I upgraded my XXXX XXXX card in XX/XX/2018 and...   \n",
       "3            Yes                                                      \n",
       "4            Yes                                                      \n",
       "\n",
       "                                  _source.sub_issue  \\\n",
       "0                                 Debt is not yours   \n",
       "1  Didn't receive enough information to verify debt   \n",
       "2             Problem with rewards from credit card   \n",
       "3                                              None   \n",
       "4                         Charged too much interest   \n",
       "\n",
       "  _source.consumer_consent_provided  \n",
       "0              Consent not provided  \n",
       "1                  Consent provided  \n",
       "2                  Consent provided  \n",
       "3              Consent not provided  \n",
       "4                               N/A  \n",
       "\n",
       "[5 rows x 22 columns]"
      ]
     },
     "execution_count": 4,
     "metadata": {},
     "output_type": "execute_result"
    }
   ],
   "source": [
    "# Inspect the dataframe to understand the given data.\n",
    "print(df.shape)\n",
    "df.head()"
   ]
  },
  {
   "cell_type": "code",
   "execution_count": 5,
   "metadata": {
    "id": "Dwcty-wmJrFw"
   },
   "outputs": [
    {
     "data": {
      "text/plain": [
       "Index(['_index', '_type', '_id', '_score', '_source.tags', '_source.zip_code',\n",
       "       '_source.complaint_id', '_source.issue', '_source.date_received',\n",
       "       '_source.state', '_source.consumer_disputed', '_source.product',\n",
       "       '_source.company_response', '_source.company', '_source.submitted_via',\n",
       "       '_source.date_sent_to_company', '_source.company_public_response',\n",
       "       '_source.sub_product', '_source.timely',\n",
       "       '_source.complaint_what_happened', '_source.sub_issue',\n",
       "       '_source.consumer_consent_provided'],\n",
       "      dtype='object')"
      ]
     },
     "execution_count": 5,
     "metadata": {},
     "output_type": "execute_result"
    }
   ],
   "source": [
    "#print the column names\n",
    "df.columns"
   ]
  },
  {
   "cell_type": "code",
   "execution_count": 6,
   "metadata": {
    "id": "FYCtKXD1JrFw"
   },
   "outputs": [],
   "source": [
    "#Assign new column names\n",
    "df.rename(columns = {'_source.complaint_what_happened':'complaints','_index':'index', '_type':'type', '_id':'id', '_score':'score', '_source.tags':'tags', '_source.zip_code':'zip_code',\n",
    "       '_source.complaint_id':'complaint_id', '_source.issue':'issue', '_source.date_received':'date_received',\n",
    "       '_source.state':'state', '_source.consumer_disputed':'.consumer_disputed', '_source.product':'product',\n",
    "       '_source.company_response':'company_response', '_source.company':'company', '_source.submitted_via':'submitted_via',\n",
    "       '_source.date_sent_to_company':'date_sent_to_company', '_source.company_public_response':'company_public_response',\n",
    "       '_source.sub_product':'sub_product', '_source.timely':'timely',\n",
    "        '_source.sub_issue':'sub_issue',\n",
    "       '_source.consumer_consent_provided':'consumer_consent_provided'}, inplace = True)"
   ]
  },
  {
   "cell_type": "code",
   "execution_count": 7,
   "metadata": {},
   "outputs": [
    {
     "data": {
      "text/plain": [
       "Index(['index', 'type', 'id', 'score', 'tags', 'zip_code', 'complaint_id',\n",
       "       'issue', 'date_received', 'state', '.consumer_disputed', 'product',\n",
       "       'company_response', 'company', 'submitted_via', 'date_sent_to_company',\n",
       "       'company_public_response', 'sub_product', 'timely', 'complaints',\n",
       "       'sub_issue', 'consumer_consent_provided'],\n",
       "      dtype='object')"
      ]
     },
     "execution_count": 7,
     "metadata": {},
     "output_type": "execute_result"
    }
   ],
   "source": [
    "# check new column names\n",
    "df.columns"
   ]
  },
  {
   "cell_type": "code",
   "execution_count": 8,
   "metadata": {
    "id": "grQUPFL5JrFx"
   },
   "outputs": [],
   "source": [
    "#Assign nan in place of blanks in the complaints column\n",
    "df[df[\"complaints\"]==\"\"] == np.nan"
   ]
  },
  {
   "cell_type": "code",
   "execution_count": 9,
   "metadata": {
    "id": "Jfxd8VSmJrFy"
   },
   "outputs": [],
   "source": [
    "#Remove all rows where complaints column is nan\n",
    "df = df[df.complaints.notnull()]"
   ]
  },
  {
   "cell_type": "markdown",
   "metadata": {
    "id": "L944HZpsJrFy"
   },
   "source": [
    "## Prepare the text for topic modeling\n",
    "\n",
    "Once you have removed all the blank complaints, you need to:\n",
    "\n",
    "* Make the text lowercase\n",
    "* Remove text in square brackets\n",
    "* Remove punctuation\n",
    "* Remove words containing numbers\n",
    "\n",
    "\n",
    "Once you have done these cleaning operations you need to perform the following:\n",
    "* Lemmatize the texts\n",
    "* Extract the POS tags of the lemmatized text and remove all the words which have tags other than NN[tag == \"NN\"].\n"
   ]
  },
  {
   "cell_type": "code",
   "execution_count": 10,
   "metadata": {},
   "outputs": [],
   "source": [
    "def clean_texts(text):\n",
    "    text=text.lower()\n",
    "    #Remove text in square brackets\n",
    "    text=re.sub(r'\\[.*?\\]', '',text)\n",
    "    #Remove words containing numbers\n",
    "    text = re.sub(r'\\w*\\d\\w*', '', text)\n",
    "    # Removing punctuations in string\n",
    "    # Using regex\n",
    "    text = re.sub(r'[^\\w\\s]', '', text)\n",
    "\n",
    "    return text"
   ]
  },
  {
   "cell_type": "code",
   "execution_count": 11,
   "metadata": {},
   "outputs": [
    {
     "data": {
      "text/plain": [
       "142    ChaseMortgagehasautomaticallydeducted2mortgage...\n",
       "Name: complaints, dtype: object"
      ]
     },
     "execution_count": 11,
     "metadata": {},
     "output_type": "execute_result"
    }
   ],
   "source": [
    "df[df[\"id\"]==\"3370885\"].complaints"
   ]
  },
  {
   "cell_type": "markdown",
   "metadata": {},
   "source": [
    "I see that there's no space between words, let's delete those sentences having word len greater than 40chars"
   ]
  },
  {
   "cell_type": "code",
   "execution_count": 12,
   "metadata": {},
   "outputs": [],
   "source": [
    "comps = [sent for sent in df[\"complaints\"] for words in sent if len(words)<40]"
   ]
  },
  {
   "cell_type": "code",
   "execution_count": 13,
   "metadata": {},
   "outputs": [],
   "source": [
    "df = df[df.complaints.isin(comps) == True]"
   ]
  },
  {
   "cell_type": "code",
   "execution_count": 14,
   "metadata": {},
   "outputs": [
    {
     "data": {
      "application/vnd.jupyter.widget-view+json": {
       "model_id": "b347983610994dbf9b88c1d5e9b85b1c",
       "version_major": 2,
       "version_minor": 0
      },
      "text/plain": [
       "Pandas Apply:   0%|          | 0/21072 [00:00<?, ?it/s]"
      ]
     },
     "metadata": {},
     "output_type": "display_data"
    }
   ],
   "source": [
    "df[\"complaints\"] = df[\"complaints\"].swifter.apply(lambda x: clean_texts(x))"
   ]
  },
  {
   "cell_type": "markdown",
   "metadata": {},
   "source": [
    "## The personal details of customer has been masked in the dataset with xxxx. Let's remove the masked text as this will be of no use for our analysis"
   ]
  },
  {
   "cell_type": "code",
   "execution_count": 15,
   "metadata": {},
   "outputs": [
    {
     "data": {
      "application/vnd.jupyter.widget-view+json": {
       "model_id": "36c04b52a2494637b048666af117b81b",
       "version_major": 2,
       "version_minor": 0
      },
      "text/plain": [
       "Pandas Apply:   0%|          | 0/21072 [00:00<?, ?it/s]"
      ]
     },
     "metadata": {},
     "output_type": "display_data"
    }
   ],
   "source": [
    "df[\"complaints\"] = df[\"complaints\"].swifter.apply(lambda x: re.sub(r'xx+', '', x))"
   ]
  },
  {
   "cell_type": "code",
   "execution_count": 16,
   "metadata": {
    "id": "zgOu8t8HJrFz"
   },
   "outputs": [],
   "source": [
    "# Lemmatize the texts\n",
    "\n",
    "def lemmatization(texts):\n",
    "    texts_out = []\n",
    "    for doc in nlp.pipe(texts, batch_size=32, n_process=3, disable=[\"parser\", \"ner\"]):\n",
    "        texts_out.append(\" \".join([token.lemma_ for token in doc]))\n",
    "    return texts_out\n"
   ]
  },
  {
   "cell_type": "code",
   "execution_count": 17,
   "metadata": {},
   "outputs": [],
   "source": [
    "# lemmatization keeping only noun, adj, vb, adv\n",
    "data_lemmatized = lemmatization(df[\"complaints\"])"
   ]
  },
  {
   "cell_type": "code",
   "execution_count": 18,
   "metadata": {},
   "outputs": [
    {
     "name": "stdout",
     "output_type": "stream",
     "text": [
      "good morning my name be    and I appreciate it if you could help I put a stop to chase bank cardmember service \n",
      " in   I write to chase ask for debt verification and what they send I a statement which be not acceptable I be ask the bank to validate the debt instead I be receive mail every month from they attempt to collect a debt \n",
      " I have a right to know this information as a consumer \n",
      "\n",
      " chase account       thank in advance for your help\n"
     ]
    }
   ],
   "source": [
    "print(data_lemmatized[0])"
   ]
  },
  {
   "cell_type": "code",
   "execution_count": 19,
   "metadata": {
    "id": "uXnN7aa_JrF0"
   },
   "outputs": [],
   "source": [
    "#Create a dataframe('df_clean') that will have only the complaints and the lemmatized complaints \n",
    "df_clean = pd.DataFrame({\"complaints\":df[\"complaints\"],\"lemmatized\":data_lemmatized})"
   ]
  },
  {
   "cell_type": "code",
   "execution_count": 20,
   "metadata": {
    "id": "nOiDVvEIJrF0"
   },
   "outputs": [
    {
     "data": {
      "text/html": [
       "<div>\n",
       "<style scoped>\n",
       "    .dataframe tbody tr th:only-of-type {\n",
       "        vertical-align: middle;\n",
       "    }\n",
       "\n",
       "    .dataframe tbody tr th {\n",
       "        vertical-align: top;\n",
       "    }\n",
       "\n",
       "    .dataframe thead th {\n",
       "        text-align: right;\n",
       "    }\n",
       "</style>\n",
       "<table border=\"1\" class=\"dataframe\">\n",
       "  <thead>\n",
       "    <tr style=\"text-align: right;\">\n",
       "      <th></th>\n",
       "      <th>complaints</th>\n",
       "      <th>lemmatized</th>\n",
       "    </tr>\n",
       "  </thead>\n",
       "  <tbody>\n",
       "    <tr>\n",
       "      <th>1</th>\n",
       "      <td>good morning my name is   and i appreciate it ...</td>\n",
       "      <td>good morning my name be    and I appreciate it...</td>\n",
       "    </tr>\n",
       "    <tr>\n",
       "      <th>2</th>\n",
       "      <td>i upgraded my   card in  and was told by the a...</td>\n",
       "      <td>I upgrade my    card in   and be tell by the a...</td>\n",
       "    </tr>\n",
       "    <tr>\n",
       "      <th>10</th>\n",
       "      <td>chase card was reported on  however fraudulent...</td>\n",
       "      <td>chase card be report on   however fraudulent a...</td>\n",
       "    </tr>\n",
       "    <tr>\n",
       "      <th>11</th>\n",
       "      <td>on  while trying to book a     ticket i came a...</td>\n",
       "      <td>on   while try to book a      ticket I come ac...</td>\n",
       "    </tr>\n",
       "    <tr>\n",
       "      <th>14</th>\n",
       "      <td>my grand son give me check for  i deposit it i...</td>\n",
       "      <td>my grand son give I check for   I deposit it i...</td>\n",
       "    </tr>\n",
       "    <tr>\n",
       "      <th>...</th>\n",
       "      <td>...</td>\n",
       "      <td>...</td>\n",
       "    </tr>\n",
       "    <tr>\n",
       "      <th>78303</th>\n",
       "      <td>after being a chase card customer for well ove...</td>\n",
       "      <td>after be a chase card customer for well over a...</td>\n",
       "    </tr>\n",
       "    <tr>\n",
       "      <th>78309</th>\n",
       "      <td>on wednesday  i called chas my   visa credit c...</td>\n",
       "      <td>on wednesday   I call cha my    visa credit ca...</td>\n",
       "    </tr>\n",
       "    <tr>\n",
       "      <th>78310</th>\n",
       "      <td>i am not familiar with  pay and did not unders...</td>\n",
       "      <td>I be not familiar with   pay and do not unders...</td>\n",
       "    </tr>\n",
       "    <tr>\n",
       "      <th>78311</th>\n",
       "      <td>i have had flawless credit for  yrs ive had ch...</td>\n",
       "      <td>I have have flawless credit for   yrs I ve hav...</td>\n",
       "    </tr>\n",
       "    <tr>\n",
       "      <th>78312</th>\n",
       "      <td>roughly  years ago i closed out my accounts wi...</td>\n",
       "      <td>roughly   year ago I close out my account with...</td>\n",
       "    </tr>\n",
       "  </tbody>\n",
       "</table>\n",
       "<p>21072 rows × 2 columns</p>\n",
       "</div>"
      ],
      "text/plain": [
       "                                              complaints  \\\n",
       "1      good morning my name is   and i appreciate it ...   \n",
       "2      i upgraded my   card in  and was told by the a...   \n",
       "10     chase card was reported on  however fraudulent...   \n",
       "11     on  while trying to book a     ticket i came a...   \n",
       "14     my grand son give me check for  i deposit it i...   \n",
       "...                                                  ...   \n",
       "78303  after being a chase card customer for well ove...   \n",
       "78309  on wednesday  i called chas my   visa credit c...   \n",
       "78310  i am not familiar with  pay and did not unders...   \n",
       "78311  i have had flawless credit for  yrs ive had ch...   \n",
       "78312  roughly  years ago i closed out my accounts wi...   \n",
       "\n",
       "                                              lemmatized  \n",
       "1      good morning my name be    and I appreciate it...  \n",
       "2      I upgrade my    card in   and be tell by the a...  \n",
       "10     chase card be report on   however fraudulent a...  \n",
       "11     on   while try to book a      ticket I come ac...  \n",
       "14     my grand son give I check for   I deposit it i...  \n",
       "...                                                  ...  \n",
       "78303  after be a chase card customer for well over a...  \n",
       "78309  on wednesday   I call cha my    visa credit ca...  \n",
       "78310  I be not familiar with   pay and do not unders...  \n",
       "78311  I have have flawless credit for   yrs I ve hav...  \n",
       "78312  roughly   year ago I close out my account with...  \n",
       "\n",
       "[21072 rows x 2 columns]"
      ]
     },
     "execution_count": 20,
     "metadata": {},
     "output_type": "execute_result"
    }
   ],
   "source": [
    "df_clean"
   ]
  },
  {
   "cell_type": "code",
   "execution_count": 21,
   "metadata": {},
   "outputs": [],
   "source": [
    "df_clean.to_csv(\"df_clean24apr.csv\",index=False)"
   ]
  },
  {
   "cell_type": "code",
   "execution_count": 22,
   "metadata": {
    "id": "Kk7fc4DuJrF1"
   },
   "outputs": [],
   "source": [
    "#Write your function to extract the POS tags \n",
    "\n",
    "def pos_tag(texts):\n",
    "    texts_out = []\n",
    "    for doc in nlp.pipe(texts, batch_size=32, n_process=3, disable=[\"parser\", \"ner\"]):\n",
    "        texts_out.append(\" \".join([token.text for token in doc if token.tag_ == \"NN\"]))\n",
    "    return texts_out\n"
   ]
  },
  {
   "cell_type": "code",
   "execution_count": 23,
   "metadata": {},
   "outputs": [],
   "source": [
    "complaint_POS_removed = pos_tag(data_lemmatized)"
   ]
  },
  {
   "cell_type": "code",
   "execution_count": 24,
   "metadata": {},
   "outputs": [],
   "source": [
    "df_clean[\"complaint_POS_removed\"] = complaint_POS_removed"
   ]
  },
  {
   "cell_type": "code",
   "execution_count": 25,
   "metadata": {
    "id": "AjxfchvFJrF2"
   },
   "outputs": [
    {
     "data": {
      "text/html": [
       "<div>\n",
       "<style scoped>\n",
       "    .dataframe tbody tr th:only-of-type {\n",
       "        vertical-align: middle;\n",
       "    }\n",
       "\n",
       "    .dataframe tbody tr th {\n",
       "        vertical-align: top;\n",
       "    }\n",
       "\n",
       "    .dataframe thead th {\n",
       "        text-align: right;\n",
       "    }\n",
       "</style>\n",
       "<table border=\"1\" class=\"dataframe\">\n",
       "  <thead>\n",
       "    <tr style=\"text-align: right;\">\n",
       "      <th></th>\n",
       "      <th>complaints</th>\n",
       "      <th>lemmatized</th>\n",
       "      <th>complaint_POS_removed</th>\n",
       "    </tr>\n",
       "  </thead>\n",
       "  <tbody>\n",
       "    <tr>\n",
       "      <th>1</th>\n",
       "      <td>good morning my name is   and i appreciate it ...</td>\n",
       "      <td>good morning my name be    and I appreciate it...</td>\n",
       "      <td>morning name stop bank service debt verificati...</td>\n",
       "    </tr>\n",
       "    <tr>\n",
       "      <th>2</th>\n",
       "      <td>i upgraded my   card in  and was told by the a...</td>\n",
       "      <td>I upgrade my    card in   and be tell by the a...</td>\n",
       "      <td>card agent anniversary date agent information ...</td>\n",
       "    </tr>\n",
       "    <tr>\n",
       "      <th>10</th>\n",
       "      <td>chase card was reported on  however fraudulent...</td>\n",
       "      <td>chase card be report on   however fraudulent a...</td>\n",
       "      <td>card report application identity consent servi...</td>\n",
       "    </tr>\n",
       "    <tr>\n",
       "      <th>11</th>\n",
       "      <td>on  while trying to book a     ticket i came a...</td>\n",
       "      <td>on   while try to book a      ticket I come ac...</td>\n",
       "      <td>ticket offer ticket reward card information of...</td>\n",
       "    </tr>\n",
       "    <tr>\n",
       "      <th>14</th>\n",
       "      <td>my grand son give me check for  i deposit it i...</td>\n",
       "      <td>my grand son give I check for   I deposit it i...</td>\n",
       "      <td>son chase account fund chase bank account mone...</td>\n",
       "    </tr>\n",
       "    <tr>\n",
       "      <th>...</th>\n",
       "      <td>...</td>\n",
       "      <td>...</td>\n",
       "      <td>...</td>\n",
       "    </tr>\n",
       "    <tr>\n",
       "      <th>78303</th>\n",
       "      <td>after being a chase card customer for well ove...</td>\n",
       "      <td>after be a chase card customer for well over a...</td>\n",
       "      <td>chase card customer decade solicitation credit...</td>\n",
       "    </tr>\n",
       "    <tr>\n",
       "      <th>78309</th>\n",
       "      <td>on wednesday  i called chas my   visa credit c...</td>\n",
       "      <td>on wednesday   I call cha my    visa credit ca...</td>\n",
       "      <td>cha visa credit card provider claim purchase p...</td>\n",
       "    </tr>\n",
       "    <tr>\n",
       "      <th>78310</th>\n",
       "      <td>i am not familiar with  pay and did not unders...</td>\n",
       "      <td>I be not familiar with   pay and do not unders...</td>\n",
       "      <td>risk consumer chase bank app chase year bankin...</td>\n",
       "    </tr>\n",
       "    <tr>\n",
       "      <th>78311</th>\n",
       "      <td>i have had flawless credit for  yrs ive had ch...</td>\n",
       "      <td>I have have flawless credit for   yrs I ve hav...</td>\n",
       "      <td>credit chase credit card freedom problem balan...</td>\n",
       "    </tr>\n",
       "    <tr>\n",
       "      <th>78312</th>\n",
       "      <td>roughly  years ago i closed out my accounts wi...</td>\n",
       "      <td>roughly   year ago I close out my account with...</td>\n",
       "      <td>year account order line credit account payment...</td>\n",
       "    </tr>\n",
       "  </tbody>\n",
       "</table>\n",
       "<p>21072 rows × 3 columns</p>\n",
       "</div>"
      ],
      "text/plain": [
       "                                              complaints  \\\n",
       "1      good morning my name is   and i appreciate it ...   \n",
       "2      i upgraded my   card in  and was told by the a...   \n",
       "10     chase card was reported on  however fraudulent...   \n",
       "11     on  while trying to book a     ticket i came a...   \n",
       "14     my grand son give me check for  i deposit it i...   \n",
       "...                                                  ...   \n",
       "78303  after being a chase card customer for well ove...   \n",
       "78309  on wednesday  i called chas my   visa credit c...   \n",
       "78310  i am not familiar with  pay and did not unders...   \n",
       "78311  i have had flawless credit for  yrs ive had ch...   \n",
       "78312  roughly  years ago i closed out my accounts wi...   \n",
       "\n",
       "                                              lemmatized  \\\n",
       "1      good morning my name be    and I appreciate it...   \n",
       "2      I upgrade my    card in   and be tell by the a...   \n",
       "10     chase card be report on   however fraudulent a...   \n",
       "11     on   while try to book a      ticket I come ac...   \n",
       "14     my grand son give I check for   I deposit it i...   \n",
       "...                                                  ...   \n",
       "78303  after be a chase card customer for well over a...   \n",
       "78309  on wednesday   I call cha my    visa credit ca...   \n",
       "78310  I be not familiar with   pay and do not unders...   \n",
       "78311  I have have flawless credit for   yrs I ve hav...   \n",
       "78312  roughly   year ago I close out my account with...   \n",
       "\n",
       "                                   complaint_POS_removed  \n",
       "1      morning name stop bank service debt verificati...  \n",
       "2      card agent anniversary date agent information ...  \n",
       "10     card report application identity consent servi...  \n",
       "11     ticket offer ticket reward card information of...  \n",
       "14     son chase account fund chase bank account mone...  \n",
       "...                                                  ...  \n",
       "78303  chase card customer decade solicitation credit...  \n",
       "78309  cha visa credit card provider claim purchase p...  \n",
       "78310  risk consumer chase bank app chase year bankin...  \n",
       "78311  credit chase credit card freedom problem balan...  \n",
       "78312  year account order line credit account payment...  \n",
       "\n",
       "[21072 rows x 3 columns]"
      ]
     },
     "execution_count": 25,
     "metadata": {},
     "output_type": "execute_result"
    }
   ],
   "source": [
    "#The clean dataframe should now contain the raw complaint, lemmatized complaint and the complaint after removing POS tags.\n",
    "df_clean"
   ]
  },
  {
   "cell_type": "code",
   "execution_count": 26,
   "metadata": {},
   "outputs": [
    {
     "data": {
      "text/plain": [
       "0"
      ]
     },
     "execution_count": 26,
     "metadata": {},
     "output_type": "execute_result"
    }
   ],
   "source": [
    "df_clean.complaint_POS_removed.isna().sum()"
   ]
  },
  {
   "cell_type": "code",
   "execution_count": 27,
   "metadata": {},
   "outputs": [],
   "source": [
    "df_clean.dropna(inplace=True)"
   ]
  },
  {
   "cell_type": "markdown",
   "metadata": {
    "id": "_7Un1AElJrF2"
   },
   "source": [
    "## Exploratory data analysis to get familiar with the data.\n",
    "\n",
    "Write the code in this task to perform the following:\n",
    "\n",
    "*   Visualise the data according to the 'Complaint' character length\n",
    "*   Using a word cloud find the top 40 words by frequency among all the articles after processing the text\n",
    "*   Find the top unigrams,bigrams and trigrams by frequency among all the complaints after processing the text. ‘\n",
    "\n",
    "\n"
   ]
  },
  {
   "cell_type": "code",
   "execution_count": 28,
   "metadata": {},
   "outputs": [],
   "source": [
    "# Write your code here to visualise the data according to the 'Complaint' character length\n",
    "complaints_len = [ len(i) for i in df_clean.complaints ]"
   ]
  },
  {
   "cell_type": "code",
   "execution_count": 29,
   "metadata": {},
   "outputs": [
    {
     "data": {
      "text/plain": [
       "Text(-2.450000000000003, 0.5, 'Frequency')"
      ]
     },
     "execution_count": 29,
     "metadata": {},
     "output_type": "execute_result"
    },
    {
     "data": {
      "text/plain": [
       "<Figure size 720x432 with 0 Axes>"
      ]
     },
     "metadata": {},
     "output_type": "display_data"
    },
    {
     "data": {
      "image/png": "[encoded data removed]",
      "text/plain": [
       "<Figure size 360x360 with 1 Axes>"
      ]
     },
     "metadata": {
      "needs_background": "light"
     },
     "output_type": "display_data"
    }
   ],
   "source": [
    "plt.figure(figsize=[10,6])\n",
    "sns.displot(complaints_len, kde=False, color='green', bins=75)\n",
    "plt.title('Complaint character length viz', fontsize=18)\n",
    "plt.xlabel('Complaints length', fontsize=16)\n",
    "plt.ylabel('Frequency', fontsize=16)"
   ]
  },
  {
   "cell_type": "code",
   "execution_count": 30,
   "metadata": {},
   "outputs": [
    {
     "data": {
      "text/plain": [
       "Text(3.674999999999997, 0.5, 'Frequency')"
      ]
     },
     "execution_count": 30,
     "metadata": {},
     "output_type": "execute_result"
    },
    {
     "data": {
      "text/plain": [
       "<Figure size 720x432 with 0 Axes>"
      ]
     },
     "metadata": {},
     "output_type": "display_data"
    },
    {
     "data": {
      "image/png": "[encoded data removed]",
      "text/plain": [
       "<Figure size 360x360 with 1 Axes>"
      ]
     },
     "metadata": {
      "needs_background": "light"
     },
     "output_type": "display_data"
    }
   ],
   "source": [
    "# lets visualize for complaint len less than 1500\n",
    "complaints_len1 = [ len(i) for i in df_clean.complaints if len(i) <2500]\n",
    "plt.figure(figsize=[10,6])\n",
    "sns.displot(complaints_len1, color='green', bins=100,kde=True)\n",
    "plt.title('Complaint character length viz', fontsize=18)\n",
    "plt.xlabel('Complaints length', fontsize=16)\n",
    "plt.ylabel('Frequency', fontsize=16)"
   ]
  },
  {
   "cell_type": "markdown",
   "metadata": {},
   "source": [
    "We see that frequency of complaints having characters greater than 500 is decreasing"
   ]
  },
  {
   "cell_type": "markdown",
   "metadata": {
    "id": "T9jD_6SeJrF3"
   },
   "source": [
    "#### Find the top 40 words by frequency among all the articles after processing the text."
   ]
  },
  {
   "cell_type": "code",
   "execution_count": 31,
   "metadata": {
    "id": "QcfdvtfZJrF3"
   },
   "outputs": [
    {
     "data": {
      "image/png": "[encoded data removed]",
      "text/plain": [
       "<Figure size 2160x1440 with 1 Axes>"
      ]
     },
     "metadata": {
      "needs_background": "light"
     },
     "output_type": "display_data"
    }
   ],
   "source": [
    "#Using a word cloud find the top 40 words by frequency among all the articles after processing the text\n",
    "\n",
    "from wordcloud import WordCloud, STOPWORDS\n",
    "stop_words = set(STOPWORDS)\n",
    "comps = df_clean.complaint_POS_removed\n",
    "doc = \" \".join(comp for comp in comps)\n",
    "wordcloud = WordCloud(width = 3000, height = 2000, random_state=1, max_words=40,stopwords=stop_words,\n",
    "                      background_color='black', colormap='Set2', collocations=False).generate(doc)\n",
    "\n",
    "plt.figure(figsize=(30, 20))\n",
    "# Display image\n",
    "plt.imshow(wordcloud) \n",
    "# No axis details\n",
    "plt.axis(\"off\");"
   ]
  },
  {
   "cell_type": "code",
   "execution_count": 32,
   "metadata": {
    "id": "OkSmc3UaJrF4"
   },
   "outputs": [],
   "source": [
    "#Removing -PRON- from the text corpus\n",
    "df_clean['Complaint_clean'] = df_clean['complaint_POS_removed'].str.replace('-PRON-', '')"
   ]
  },
  {
   "cell_type": "markdown",
   "metadata": {
    "id": "5DfCSbbmJrF4"
   },
   "source": [
    "#### Find the top unigrams,bigrams and trigrams by frequency among all the complaints after processing the text."
   ]
  },
  {
   "cell_type": "code",
   "execution_count": 33,
   "metadata": {},
   "outputs": [],
   "source": [
    "# Function to return ngram word freq taking ngram_range as input\n",
    "def get_ngrams(ngram_range):\n",
    "    vector = CountVectorizer(ngram_range=ngram_range, stop_words='english').fit(df_clean['Complaint_clean'])\n",
    "    bag_of_words = vector.transform(df_clean['Complaint_clean'])\n",
    "    sum_of_words = bag_of_words.sum(axis=0) \n",
    "    word_freq = [(word, sum_of_words[0, idx]) for word, idx in vector.vocabulary_.items()]\n",
    "    word_freq =sorted(word_freq, key = lambda x: x[1], reverse=True)\n",
    "    return word_freq"
   ]
  },
  {
   "cell_type": "code",
   "execution_count": 34,
   "metadata": {
    "id": "5mbk5DS5JrF4"
   },
   "outputs": [],
   "source": [
    "#Write your code here to find the top 30 unigram frequency among the complaints in the cleaned datafram(df_clean). \n",
    "unigrams = get_ngrams((1,1))"
   ]
  },
  {
   "cell_type": "code",
   "execution_count": 35,
   "metadata": {},
   "outputs": [
    {
     "data": {
      "text/plain": [
       "[('chase', 48482),\n",
       " ('account', 47415),\n",
       " ('credit', 33482),\n",
       " ('card', 29990),\n",
       " ('payment', 21134),\n",
       " ('bank', 17585),\n",
       " ('time', 16044),\n",
       " ('charge', 13989),\n",
       " ('day', 13174),\n",
       " ('money', 11907)]"
      ]
     },
     "execution_count": 35,
     "metadata": {},
     "output_type": "execute_result"
    }
   ],
   "source": [
    "#Print the top 10 words in the unigram frequency\n",
    "unigrams[:10]"
   ]
  },
  {
   "cell_type": "code",
   "execution_count": 36,
   "metadata": {},
   "outputs": [],
   "source": [
    "# store top 30 unigrams to df for easy plot\n",
    "df_unigram = pd.DataFrame(unigrams[:30], columns = ['unigram' , 'count'])"
   ]
  },
  {
   "cell_type": "code",
   "execution_count": 37,
   "metadata": {
    "id": "YX7fedm1JrF8"
   },
   "outputs": [
    {
     "data": {
      "image/png": "[encoded data removed]",
      "text/plain": [
       "<Figure size 1080x432 with 1 Axes>"
      ]
     },
     "metadata": {
      "needs_background": "light"
     },
     "output_type": "display_data"
    }
   ],
   "source": [
    "# Plot the top 30 unigrams\n",
    "plt.figure(figsize=(15,6))\n",
    "sns.barplot(x='unigram', y='count', data=df_unigram)\n",
    "plt.xticks(rotation=90)\n",
    "plt.title(\"Top 30 unigrams\")\n",
    "plt.show()"
   ]
  },
  {
   "cell_type": "code",
   "execution_count": 38,
   "metadata": {
    "id": "aV7kD7w8JrF8"
   },
   "outputs": [],
   "source": [
    "#Write your code here to find the top 30 bigram frequency among the complaints in the cleaned datafram(df_clean). \n",
    "bigrams = get_ngrams((2,2))"
   ]
  },
  {
   "cell_type": "code",
   "execution_count": 39,
   "metadata": {
    "id": "NPnMNIpyJrF9"
   },
   "outputs": [
    {
     "data": {
      "text/plain": [
       "[('credit card', 12857),\n",
       " ('credit report', 3977),\n",
       " ('customer service', 3084),\n",
       " ('chase credit', 3024),\n",
       " ('account chase', 2881),\n",
       " ('account account', 2686),\n",
       " ('chase account', 2580),\n",
       " ('checking account', 2558),\n",
       " ('bank account', 2228),\n",
       " ('debit card', 2029)]"
      ]
     },
     "execution_count": 39,
     "metadata": {},
     "output_type": "execute_result"
    }
   ],
   "source": [
    "#Print the top 10 words in the bigram frequency\n",
    "bigrams[:10]"
   ]
  },
  {
   "cell_type": "code",
   "execution_count": 40,
   "metadata": {},
   "outputs": [],
   "source": [
    "df_bigram = pd.DataFrame(bigrams[:30], columns = ['bigram' , 'count'])"
   ]
  },
  {
   "cell_type": "code",
   "execution_count": 41,
   "metadata": {},
   "outputs": [
    {
     "data": {
      "image/png": "[encoded data removed]",
      "text/plain": [
       "<Figure size 1080x432 with 1 Axes>"
      ]
     },
     "metadata": {
      "needs_background": "light"
     },
     "output_type": "display_data"
    }
   ],
   "source": [
    "# Plot the top 30 unigrams\n",
    "plt.figure(figsize=(15,6))\n",
    "sns.barplot(x='bigram', y='count', data=df_bigram)\n",
    "plt.xticks(rotation=90)\n",
    "plt.title(\"Top 30bigrams\")\n",
    "plt.show()"
   ]
  },
  {
   "cell_type": "code",
   "execution_count": 42,
   "metadata": {
    "id": "Xkh7vtbtJrF-"
   },
   "outputs": [],
   "source": [
    "#Write your code here to find the top 30 trigram frequency among the complaints in the cleaned datafram(df_clean). \n",
    "trigrams = get_ngrams((3,3))"
   ]
  },
  {
   "cell_type": "code",
   "execution_count": 43,
   "metadata": {
    "id": "REcVxNfvJrF-"
   },
   "outputs": [
    {
     "data": {
      "text/plain": [
       "[('chase credit card', 2120),\n",
       " ('credit card account', 1107),\n",
       " ('credit card company', 995),\n",
       " ('credit card chase', 641),\n",
       " ('credit card credit', 566),\n",
       " ('inquiry credit report', 505),\n",
       " ('account credit card', 452),\n",
       " ('card credit card', 435),\n",
       " ('charge credit card', 404),\n",
       " ('credit report credit', 369)]"
      ]
     },
     "execution_count": 43,
     "metadata": {},
     "output_type": "execute_result"
    }
   ],
   "source": [
    "#Print the top 10 words in the trigram frequency\n",
    "trigrams[:10]"
   ]
  },
  {
   "cell_type": "code",
   "execution_count": 44,
   "metadata": {},
   "outputs": [],
   "source": [
    "df_trigram = pd.DataFrame(trigrams[:30], columns = ['trigram' , 'count'])"
   ]
  },
  {
   "cell_type": "code",
   "execution_count": 45,
   "metadata": {},
   "outputs": [
    {
     "data": {
      "image/png": "[encoded data removed]",
      "text/plain": [
       "<Figure size 1080x432 with 1 Axes>"
      ]
     },
     "metadata": {
      "needs_background": "light"
     },
     "output_type": "display_data"
    }
   ],
   "source": [
    "# Plot the top 30 unigrams\n",
    "plt.figure(figsize=(15,6))\n",
    "sns.barplot(x='trigram', y='count', data=df_trigram)\n",
    "plt.xticks(rotation=90)\n",
    "plt.title(\"Top 30 trigrams\")\n",
    "plt.show()"
   ]
  },
  {
   "cell_type": "markdown",
   "metadata": {
    "id": "k-I0k0QtJrGA"
   },
   "source": [
    "## Feature Extraction\n",
    "Convert the raw texts to a matrix of TF-IDF features\n",
    "\n",
    "**max_df** is used for removing terms that appear too frequently, also known as \"corpus-specific stop words\"\n",
    "max_df = 0.95 means \"ignore terms that appear in more than 95% of the complaints\"\n",
    "\n",
    "**min_df** is used for removing terms that appear too infrequently\n",
    "min_df = 2 means \"ignore terms that appear in less than 2 complaints\""
   ]
  },
  {
   "cell_type": "code",
   "execution_count": 46,
   "metadata": {
    "id": "Y8fGwaCPJrGA"
   },
   "outputs": [],
   "source": [
    "#Write your code here to initialise the TfidfVectorizer \n",
    "tfidf = TfidfVectorizer(max_df=0.95, min_df=2, stop_words='english')"
   ]
  },
  {
   "cell_type": "markdown",
   "metadata": {
    "id": "yYzD85nTJrGA"
   },
   "source": [
    "#### Create a document term matrix using fit_transform\n",
    "\n",
    "The contents of a document term matrix are tuples of (complaint_id,token_id) tf-idf score:\n",
    "The tuples that are not there have a tf-idf score of 0"
   ]
  },
  {
   "cell_type": "code",
   "execution_count": 47,
   "metadata": {
    "id": "ffzdDpp_JrGB"
   },
   "outputs": [],
   "source": [
    "#Write your code here to create the Document Term Matrix by transforming the complaints column present in df_clean.\n",
    "dtm = tfidf.fit_transform(df_clean['complaint_POS_removed'])"
   ]
  },
  {
   "cell_type": "code",
   "execution_count": 48,
   "metadata": {},
   "outputs": [
    {
     "data": {
      "text/html": [
       "<div>\n",
       "<style scoped>\n",
       "    .dataframe tbody tr th:only-of-type {\n",
       "        vertical-align: middle;\n",
       "    }\n",
       "\n",
       "    .dataframe tbody tr th {\n",
       "        vertical-align: top;\n",
       "    }\n",
       "\n",
       "    .dataframe thead th {\n",
       "        text-align: right;\n",
       "    }\n",
       "</style>\n",
       "<table border=\"1\" class=\"dataframe\">\n",
       "  <thead>\n",
       "    <tr style=\"text-align: right;\">\n",
       "      <th></th>\n",
       "      <th>aa</th>\n",
       "      <th>aarp</th>\n",
       "      <th>abandonment</th>\n",
       "      <th>abatement</th>\n",
       "      <th>abbreviation</th>\n",
       "      <th>abet</th>\n",
       "      <th>abide</th>\n",
       "      <th>ability</th>\n",
       "      <th>abovementione</th>\n",
       "      <th>abovereference</th>\n",
       "      <th>...</th>\n",
       "      <th>yoga</th>\n",
       "      <th>youinv</th>\n",
       "      <th>youth</th>\n",
       "      <th>yr</th>\n",
       "      <th>yrs</th>\n",
       "      <th>zip</th>\n",
       "      <th>zipcode</th>\n",
       "      <th>zombie</th>\n",
       "      <th>zone</th>\n",
       "      <th>zoom</th>\n",
       "    </tr>\n",
       "  </thead>\n",
       "  <tbody>\n",
       "    <tr>\n",
       "      <th>0</th>\n",
       "      <td>0.0</td>\n",
       "      <td>0.0</td>\n",
       "      <td>0.0</td>\n",
       "      <td>0.0</td>\n",
       "      <td>0.0</td>\n",
       "      <td>0.0</td>\n",
       "      <td>0.0</td>\n",
       "      <td>0.0</td>\n",
       "      <td>0.0</td>\n",
       "      <td>0.0</td>\n",
       "      <td>...</td>\n",
       "      <td>0.0</td>\n",
       "      <td>0.0</td>\n",
       "      <td>0.0</td>\n",
       "      <td>0.0</td>\n",
       "      <td>0.0</td>\n",
       "      <td>0.0</td>\n",
       "      <td>0.0</td>\n",
       "      <td>0.0</td>\n",
       "      <td>0.0</td>\n",
       "      <td>0.0</td>\n",
       "    </tr>\n",
       "    <tr>\n",
       "      <th>1</th>\n",
       "      <td>0.0</td>\n",
       "      <td>0.0</td>\n",
       "      <td>0.0</td>\n",
       "      <td>0.0</td>\n",
       "      <td>0.0</td>\n",
       "      <td>0.0</td>\n",
       "      <td>0.0</td>\n",
       "      <td>0.0</td>\n",
       "      <td>0.0</td>\n",
       "      <td>0.0</td>\n",
       "      <td>...</td>\n",
       "      <td>0.0</td>\n",
       "      <td>0.0</td>\n",
       "      <td>0.0</td>\n",
       "      <td>0.0</td>\n",
       "      <td>0.0</td>\n",
       "      <td>0.0</td>\n",
       "      <td>0.0</td>\n",
       "      <td>0.0</td>\n",
       "      <td>0.0</td>\n",
       "      <td>0.0</td>\n",
       "    </tr>\n",
       "    <tr>\n",
       "      <th>2</th>\n",
       "      <td>0.0</td>\n",
       "      <td>0.0</td>\n",
       "      <td>0.0</td>\n",
       "      <td>0.0</td>\n",
       "      <td>0.0</td>\n",
       "      <td>0.0</td>\n",
       "      <td>0.0</td>\n",
       "      <td>0.0</td>\n",
       "      <td>0.0</td>\n",
       "      <td>0.0</td>\n",
       "      <td>...</td>\n",
       "      <td>0.0</td>\n",
       "      <td>0.0</td>\n",
       "      <td>0.0</td>\n",
       "      <td>0.0</td>\n",
       "      <td>0.0</td>\n",
       "      <td>0.0</td>\n",
       "      <td>0.0</td>\n",
       "      <td>0.0</td>\n",
       "      <td>0.0</td>\n",
       "      <td>0.0</td>\n",
       "    </tr>\n",
       "    <tr>\n",
       "      <th>3</th>\n",
       "      <td>0.0</td>\n",
       "      <td>0.0</td>\n",
       "      <td>0.0</td>\n",
       "      <td>0.0</td>\n",
       "      <td>0.0</td>\n",
       "      <td>0.0</td>\n",
       "      <td>0.0</td>\n",
       "      <td>0.0</td>\n",
       "      <td>0.0</td>\n",
       "      <td>0.0</td>\n",
       "      <td>...</td>\n",
       "      <td>0.0</td>\n",
       "      <td>0.0</td>\n",
       "      <td>0.0</td>\n",
       "      <td>0.0</td>\n",
       "      <td>0.0</td>\n",
       "      <td>0.0</td>\n",
       "      <td>0.0</td>\n",
       "      <td>0.0</td>\n",
       "      <td>0.0</td>\n",
       "      <td>0.0</td>\n",
       "    </tr>\n",
       "    <tr>\n",
       "      <th>4</th>\n",
       "      <td>0.0</td>\n",
       "      <td>0.0</td>\n",
       "      <td>0.0</td>\n",
       "      <td>0.0</td>\n",
       "      <td>0.0</td>\n",
       "      <td>0.0</td>\n",
       "      <td>0.0</td>\n",
       "      <td>0.0</td>\n",
       "      <td>0.0</td>\n",
       "      <td>0.0</td>\n",
       "      <td>...</td>\n",
       "      <td>0.0</td>\n",
       "      <td>0.0</td>\n",
       "      <td>0.0</td>\n",
       "      <td>0.0</td>\n",
       "      <td>0.0</td>\n",
       "      <td>0.0</td>\n",
       "      <td>0.0</td>\n",
       "      <td>0.0</td>\n",
       "      <td>0.0</td>\n",
       "      <td>0.0</td>\n",
       "    </tr>\n",
       "    <tr>\n",
       "      <th>...</th>\n",
       "      <td>...</td>\n",
       "      <td>...</td>\n",
       "      <td>...</td>\n",
       "      <td>...</td>\n",
       "      <td>...</td>\n",
       "      <td>...</td>\n",
       "      <td>...</td>\n",
       "      <td>...</td>\n",
       "      <td>...</td>\n",
       "      <td>...</td>\n",
       "      <td>...</td>\n",
       "      <td>...</td>\n",
       "      <td>...</td>\n",
       "      <td>...</td>\n",
       "      <td>...</td>\n",
       "      <td>...</td>\n",
       "      <td>...</td>\n",
       "      <td>...</td>\n",
       "      <td>...</td>\n",
       "      <td>...</td>\n",
       "      <td>...</td>\n",
       "    </tr>\n",
       "    <tr>\n",
       "      <th>21067</th>\n",
       "      <td>0.0</td>\n",
       "      <td>0.0</td>\n",
       "      <td>0.0</td>\n",
       "      <td>0.0</td>\n",
       "      <td>0.0</td>\n",
       "      <td>0.0</td>\n",
       "      <td>0.0</td>\n",
       "      <td>0.0</td>\n",
       "      <td>0.0</td>\n",
       "      <td>0.0</td>\n",
       "      <td>...</td>\n",
       "      <td>0.0</td>\n",
       "      <td>0.0</td>\n",
       "      <td>0.0</td>\n",
       "      <td>0.0</td>\n",
       "      <td>0.0</td>\n",
       "      <td>0.0</td>\n",
       "      <td>0.0</td>\n",
       "      <td>0.0</td>\n",
       "      <td>0.0</td>\n",
       "      <td>0.0</td>\n",
       "    </tr>\n",
       "    <tr>\n",
       "      <th>21068</th>\n",
       "      <td>0.0</td>\n",
       "      <td>0.0</td>\n",
       "      <td>0.0</td>\n",
       "      <td>0.0</td>\n",
       "      <td>0.0</td>\n",
       "      <td>0.0</td>\n",
       "      <td>0.0</td>\n",
       "      <td>0.0</td>\n",
       "      <td>0.0</td>\n",
       "      <td>0.0</td>\n",
       "      <td>...</td>\n",
       "      <td>0.0</td>\n",
       "      <td>0.0</td>\n",
       "      <td>0.0</td>\n",
       "      <td>0.0</td>\n",
       "      <td>0.0</td>\n",
       "      <td>0.0</td>\n",
       "      <td>0.0</td>\n",
       "      <td>0.0</td>\n",
       "      <td>0.0</td>\n",
       "      <td>0.0</td>\n",
       "    </tr>\n",
       "    <tr>\n",
       "      <th>21069</th>\n",
       "      <td>0.0</td>\n",
       "      <td>0.0</td>\n",
       "      <td>0.0</td>\n",
       "      <td>0.0</td>\n",
       "      <td>0.0</td>\n",
       "      <td>0.0</td>\n",
       "      <td>0.0</td>\n",
       "      <td>0.0</td>\n",
       "      <td>0.0</td>\n",
       "      <td>0.0</td>\n",
       "      <td>...</td>\n",
       "      <td>0.0</td>\n",
       "      <td>0.0</td>\n",
       "      <td>0.0</td>\n",
       "      <td>0.0</td>\n",
       "      <td>0.0</td>\n",
       "      <td>0.0</td>\n",
       "      <td>0.0</td>\n",
       "      <td>0.0</td>\n",
       "      <td>0.0</td>\n",
       "      <td>0.0</td>\n",
       "    </tr>\n",
       "    <tr>\n",
       "      <th>21070</th>\n",
       "      <td>0.0</td>\n",
       "      <td>0.0</td>\n",
       "      <td>0.0</td>\n",
       "      <td>0.0</td>\n",
       "      <td>0.0</td>\n",
       "      <td>0.0</td>\n",
       "      <td>0.0</td>\n",
       "      <td>0.0</td>\n",
       "      <td>0.0</td>\n",
       "      <td>0.0</td>\n",
       "      <td>...</td>\n",
       "      <td>0.0</td>\n",
       "      <td>0.0</td>\n",
       "      <td>0.0</td>\n",
       "      <td>0.0</td>\n",
       "      <td>0.0</td>\n",
       "      <td>0.0</td>\n",
       "      <td>0.0</td>\n",
       "      <td>0.0</td>\n",
       "      <td>0.0</td>\n",
       "      <td>0.0</td>\n",
       "    </tr>\n",
       "    <tr>\n",
       "      <th>21071</th>\n",
       "      <td>0.0</td>\n",
       "      <td>0.0</td>\n",
       "      <td>0.0</td>\n",
       "      <td>0.0</td>\n",
       "      <td>0.0</td>\n",
       "      <td>0.0</td>\n",
       "      <td>0.0</td>\n",
       "      <td>0.0</td>\n",
       "      <td>0.0</td>\n",
       "      <td>0.0</td>\n",
       "      <td>...</td>\n",
       "      <td>0.0</td>\n",
       "      <td>0.0</td>\n",
       "      <td>0.0</td>\n",
       "      <td>0.0</td>\n",
       "      <td>0.0</td>\n",
       "      <td>0.0</td>\n",
       "      <td>0.0</td>\n",
       "      <td>0.0</td>\n",
       "      <td>0.0</td>\n",
       "      <td>0.0</td>\n",
       "    </tr>\n",
       "  </tbody>\n",
       "</table>\n",
       "<p>21072 rows × 6751 columns</p>\n",
       "</div>"
      ],
      "text/plain": [
       "        aa  aarp  abandonment  abatement  abbreviation  abet  abide  ability  \\\n",
       "0      0.0   0.0          0.0        0.0           0.0   0.0    0.0      0.0   \n",
       "1      0.0   0.0          0.0        0.0           0.0   0.0    0.0      0.0   \n",
       "2      0.0   0.0          0.0        0.0           0.0   0.0    0.0      0.0   \n",
       "3      0.0   0.0          0.0        0.0           0.0   0.0    0.0      0.0   \n",
       "4      0.0   0.0          0.0        0.0           0.0   0.0    0.0      0.0   \n",
       "...    ...   ...          ...        ...           ...   ...    ...      ...   \n",
       "21067  0.0   0.0          0.0        0.0           0.0   0.0    0.0      0.0   \n",
       "21068  0.0   0.0          0.0        0.0           0.0   0.0    0.0      0.0   \n",
       "21069  0.0   0.0          0.0        0.0           0.0   0.0    0.0      0.0   \n",
       "21070  0.0   0.0          0.0        0.0           0.0   0.0    0.0      0.0   \n",
       "21071  0.0   0.0          0.0        0.0           0.0   0.0    0.0      0.0   \n",
       "\n",
       "       abovementione  abovereference  ...  yoga  youinv  youth   yr  yrs  zip  \\\n",
       "0                0.0             0.0  ...   0.0     0.0    0.0  0.0  0.0  0.0   \n",
       "1                0.0             0.0  ...   0.0     0.0    0.0  0.0  0.0  0.0   \n",
       "2                0.0             0.0  ...   0.0     0.0    0.0  0.0  0.0  0.0   \n",
       "3                0.0             0.0  ...   0.0     0.0    0.0  0.0  0.0  0.0   \n",
       "4                0.0             0.0  ...   0.0     0.0    0.0  0.0  0.0  0.0   \n",
       "...              ...             ...  ...   ...     ...    ...  ...  ...  ...   \n",
       "21067            0.0             0.0  ...   0.0     0.0    0.0  0.0  0.0  0.0   \n",
       "21068            0.0             0.0  ...   0.0     0.0    0.0  0.0  0.0  0.0   \n",
       "21069            0.0             0.0  ...   0.0     0.0    0.0  0.0  0.0  0.0   \n",
       "21070            0.0             0.0  ...   0.0     0.0    0.0  0.0  0.0  0.0   \n",
       "21071            0.0             0.0  ...   0.0     0.0    0.0  0.0  0.0  0.0   \n",
       "\n",
       "       zipcode  zombie  zone  zoom  \n",
       "0          0.0     0.0   0.0   0.0  \n",
       "1          0.0     0.0   0.0   0.0  \n",
       "2          0.0     0.0   0.0   0.0  \n",
       "3          0.0     0.0   0.0   0.0  \n",
       "4          0.0     0.0   0.0   0.0  \n",
       "...        ...     ...   ...   ...  \n",
       "21067      0.0     0.0   0.0   0.0  \n",
       "21068      0.0     0.0   0.0   0.0  \n",
       "21069      0.0     0.0   0.0   0.0  \n",
       "21070      0.0     0.0   0.0   0.0  \n",
       "21071      0.0     0.0   0.0   0.0  \n",
       "\n",
       "[21072 rows x 6751 columns]"
      ]
     },
     "execution_count": 48,
     "metadata": {},
     "output_type": "execute_result"
    }
   ],
   "source": [
    "pd.DataFrame(dtm.toarray(), columns=tfidf.get_feature_names())"
   ]
  },
  {
   "cell_type": "markdown",
   "metadata": {
    "id": "7Q9lwvNEJrGB"
   },
   "source": [
    "## Topic Modelling using NMF\n",
    "\n",
    "Non-Negative Matrix Factorization (NMF) is an unsupervised technique so there are no labeling of topics that the model will be trained on. The way it works is that, NMF decomposes (or factorizes) high-dimensional vectors into a lower-dimensional representation. These lower-dimensional vectors are non-negative which also means their coefficients are non-negative.\n",
    "\n",
    "In this task you have to perform the following:\n",
    "\n",
    "* Find the best number of clusters \n",
    "* Apply the best number to create word clusters\n",
    "* Inspect & validate the correction of each cluster wrt the complaints \n",
    "* Correct the labels if needed \n",
    "* Map the clusters to topics/cluster names"
   ]
  },
  {
   "cell_type": "code",
   "execution_count": 49,
   "metadata": {
    "id": "amLT4omWJrGB"
   },
   "outputs": [],
   "source": [
    "from sklearn.decomposition import NMF"
   ]
  },
  {
   "cell_type": "markdown",
   "metadata": {
    "id": "0wYR1xUTJrGD"
   },
   "source": [
    "## Manual Topic Modeling\n",
    "You need to do take the trial & error approach to find the best num of topics for your NMF model.\n",
    "\n",
    "The only parameter that is required is the number of components i.e. the number of topics we want. This is the most crucial step in the whole topic modeling process and will greatly affect how good your final topics are."
   ]
  },
  {
   "cell_type": "code",
   "execution_count": 50,
   "metadata": {
    "id": "sgd2A6bhJrGD"
   },
   "outputs": [],
   "source": [
    "#Load your nmf_model with the n_components i.e 5\n",
    "num_topics = 5 #write the value you want to test out\n",
    "\n",
    "#keep the random_state =40\n",
    "nmf_model =  NMF(n_components=num_topics,random_state=40)\n",
    "W = nmf_model.fit(dtm)  # Document-topic matrix\n",
    "H = nmf_model.components_       # Topic-term matrix#write your code here"
   ]
  },
  {
   "cell_type": "code",
   "execution_count": 51,
   "metadata": {
    "id": "16kRfat5JrGE"
   },
   "outputs": [
    {
     "name": "stdout",
     "output_type": "stream",
     "text": [
      "TOP 15 WORDS FOR TOPIC #0\n",
      "['customer', 'transaction', 'transfer', 'business', 'number', 'checking', 'day', 'branch', 'deposit', 'chase', 'fund', 'money', 'bank', 'check', 'account']\n",
      "\n",
      "\n",
      "TOP 15 WORDS FOR TOPIC #1\n",
      "['reason', 'time', 'application', 'purchase', 'offer', 'month', 'point', 'year', 'score', 'limit', 'account', 'balance', 'chase', 'credit', 'card']\n",
      "\n",
      "\n",
      "TOP 15 WORDS FOR TOPIC #2\n",
      "['day', 'date', 'statement', 'property', 'balance', 'rate', 'year', 'time', 'modification', 'month', 'home', 'chase', 'mortgage', 'loan', 'payment']\n",
      "\n",
      "\n",
      "TOP 15 WORDS FOR TOPIC #3\n",
      "['date', 'letter', 'remove', 'theft', 'score', 'account', 'identity', 'bureaus', 'debt', 'reporting', 'company', 'information', 'credit', 'inquiry', 'report']\n",
      "\n",
      "\n",
      "TOP 15 WORDS FOR TOPIC #4\n",
      "['day', 'company', 'time', 'refund', 'email', 'service', 'purchase', 'fraud', 'claim', 'merchant', 'fee', 'chase', 'transaction', 'dispute', 'charge']\n",
      "\n",
      "\n"
     ]
    }
   ],
   "source": [
    "for index, topic in enumerate(nmf_model.components_):\n",
    "    print(f'TOP 15 WORDS FOR TOPIC #{index}')\n",
    "    print([tfidf.get_feature_names()[i] for i in topic.argsort()[-15:]])\n",
    "    print('\\n')"
   ]
  },
  {
   "cell_type": "code",
   "execution_count": 52,
   "metadata": {
    "id": "0OIT7LmFJrGF"
   },
   "outputs": [
    {
     "data": {
      "text/plain": [
       "array([2, 1, 3, ..., 4, 1, 2])"
      ]
     },
     "execution_count": 52,
     "metadata": {},
     "output_type": "execute_result"
    }
   ],
   "source": [
    "#Create the best topic for each complaint in terms of integer value 0,1,2,3 & 4\n",
    "topic_result = nmf_model.transform(dtm)\n",
    "topic_result[0].round(2)\n",
    "topic_result[0].argmax()\n",
    "topic_result.argmax(axis=1)"
   ]
  },
  {
   "cell_type": "code",
   "execution_count": 53,
   "metadata": {
    "id": "peyYv-ORJrGF"
   },
   "outputs": [],
   "source": [
    "#Assign the best topic to each of the cmplaints in Topic Column\n",
    "\n",
    "df_clean['Topic'] = topic_result.argmax(axis=1) #write your code to assign topics to each rows."
   ]
  },
  {
   "cell_type": "code",
   "execution_count": 54,
   "metadata": {
    "id": "fLh_Gf3nJrGF"
   },
   "outputs": [
    {
     "data": {
      "text/html": [
       "<div>\n",
       "<style scoped>\n",
       "    .dataframe tbody tr th:only-of-type {\n",
       "        vertical-align: middle;\n",
       "    }\n",
       "\n",
       "    .dataframe tbody tr th {\n",
       "        vertical-align: top;\n",
       "    }\n",
       "\n",
       "    .dataframe thead th {\n",
       "        text-align: right;\n",
       "    }\n",
       "</style>\n",
       "<table border=\"1\" class=\"dataframe\">\n",
       "  <thead>\n",
       "    <tr style=\"text-align: right;\">\n",
       "      <th></th>\n",
       "      <th>complaints</th>\n",
       "      <th>lemmatized</th>\n",
       "      <th>complaint_POS_removed</th>\n",
       "      <th>Complaint_clean</th>\n",
       "      <th>Topic</th>\n",
       "    </tr>\n",
       "  </thead>\n",
       "  <tbody>\n",
       "    <tr>\n",
       "      <th>1</th>\n",
       "      <td>good morning my name is   and i appreciate it ...</td>\n",
       "      <td>good morning my name be    and I appreciate it...</td>\n",
       "      <td>morning name stop bank service debt verificati...</td>\n",
       "      <td>morning name stop bank service debt verificati...</td>\n",
       "      <td>2</td>\n",
       "    </tr>\n",
       "    <tr>\n",
       "      <th>2</th>\n",
       "      <td>i upgraded my   card in  and was told by the a...</td>\n",
       "      <td>I upgrade my    card in   and be tell by the a...</td>\n",
       "      <td>card agent anniversary date agent information ...</td>\n",
       "      <td>card agent anniversary date agent information ...</td>\n",
       "      <td>1</td>\n",
       "    </tr>\n",
       "    <tr>\n",
       "      <th>10</th>\n",
       "      <td>chase card was reported on  however fraudulent...</td>\n",
       "      <td>chase card be report on   however fraudulent a...</td>\n",
       "      <td>card report application identity consent servi...</td>\n",
       "      <td>card report application identity consent servi...</td>\n",
       "      <td>3</td>\n",
       "    </tr>\n",
       "    <tr>\n",
       "      <th>11</th>\n",
       "      <td>on  while trying to book a     ticket i came a...</td>\n",
       "      <td>on   while try to book a      ticket I come ac...</td>\n",
       "      <td>ticket offer ticket reward card information of...</td>\n",
       "      <td>ticket offer ticket reward card information of...</td>\n",
       "      <td>3</td>\n",
       "    </tr>\n",
       "    <tr>\n",
       "      <th>14</th>\n",
       "      <td>my grand son give me check for  i deposit it i...</td>\n",
       "      <td>my grand son give I check for   I deposit it i...</td>\n",
       "      <td>son chase account fund chase bank account mone...</td>\n",
       "      <td>son chase account fund chase bank account mone...</td>\n",
       "      <td>0</td>\n",
       "    </tr>\n",
       "  </tbody>\n",
       "</table>\n",
       "</div>"
      ],
      "text/plain": [
       "                                           complaints  \\\n",
       "1   good morning my name is   and i appreciate it ...   \n",
       "2   i upgraded my   card in  and was told by the a...   \n",
       "10  chase card was reported on  however fraudulent...   \n",
       "11  on  while trying to book a     ticket i came a...   \n",
       "14  my grand son give me check for  i deposit it i...   \n",
       "\n",
       "                                           lemmatized  \\\n",
       "1   good morning my name be    and I appreciate it...   \n",
       "2   I upgrade my    card in   and be tell by the a...   \n",
       "10  chase card be report on   however fraudulent a...   \n",
       "11  on   while try to book a      ticket I come ac...   \n",
       "14  my grand son give I check for   I deposit it i...   \n",
       "\n",
       "                                complaint_POS_removed  \\\n",
       "1   morning name stop bank service debt verificati...   \n",
       "2   card agent anniversary date agent information ...   \n",
       "10  card report application identity consent servi...   \n",
       "11  ticket offer ticket reward card information of...   \n",
       "14  son chase account fund chase bank account mone...   \n",
       "\n",
       "                                      Complaint_clean  Topic  \n",
       "1   morning name stop bank service debt verificati...      2  \n",
       "2   card agent anniversary date agent information ...      1  \n",
       "10  card report application identity consent servi...      3  \n",
       "11  ticket offer ticket reward card information of...      3  \n",
       "14  son chase account fund chase bank account mone...      0  "
      ]
     },
     "execution_count": 54,
     "metadata": {},
     "output_type": "execute_result"
    }
   ],
   "source": [
    "df_clean.head()"
   ]
  },
  {
   "cell_type": "code",
   "execution_count": 55,
   "metadata": {},
   "outputs": [],
   "source": [
    "pd.options.display.max_colwidth = 100"
   ]
  },
  {
   "cell_type": "code",
   "execution_count": 56,
   "metadata": {
    "id": "aQKpufSPJrGG"
   },
   "outputs": [
    {
     "data": {
      "text/html": [
       "<div>\n",
       "<style scoped>\n",
       "    .dataframe tbody tr th:only-of-type {\n",
       "        vertical-align: middle;\n",
       "    }\n",
       "\n",
       "    .dataframe tbody tr th {\n",
       "        vertical-align: top;\n",
       "    }\n",
       "\n",
       "    .dataframe thead th {\n",
       "        text-align: right;\n",
       "    }\n",
       "</style>\n",
       "<table border=\"1\" class=\"dataframe\">\n",
       "  <thead>\n",
       "    <tr style=\"text-align: right;\">\n",
       "      <th></th>\n",
       "      <th>complaints</th>\n",
       "      <th>lemmatized</th>\n",
       "      <th>complaint_POS_removed</th>\n",
       "      <th>Complaint_clean</th>\n",
       "      <th>Topic</th>\n",
       "    </tr>\n",
       "  </thead>\n",
       "  <tbody>\n",
       "    <tr>\n",
       "      <th>27</th>\n",
       "      <td>i opened an account with chase bank on  and used a code for  bonus i called to follow up on  abo...</td>\n",
       "      <td>I open an account with chase bank on   and use a code for   bonus I call to follow up on   about...</td>\n",
       "      <td>account code bonus term everything account deposit bonus day deposit account coupon code day bonus</td>\n",
       "      <td>account code bonus term everything account deposit bonus day deposit account coupon code day bonus</td>\n",
       "      <td>0</td>\n",
       "    </tr>\n",
       "    <tr>\n",
       "      <th>14</th>\n",
       "      <td>my grand son give me check for  i deposit it into my chase account after fund clear my chase ban...</td>\n",
       "      <td>my grand son give I check for   I deposit it into my chase account after fund clear my chase ban...</td>\n",
       "      <td>son chase account fund chase bank account money son check money chase bank money time check owne...</td>\n",
       "      <td>son chase account fund chase bank account money son check money chase bank money time check owne...</td>\n",
       "      <td>0</td>\n",
       "    </tr>\n",
       "    <tr>\n",
       "      <th>17</th>\n",
       "      <td>with out notice jp morgan chase restricted my account by my debit card tuesday  on thursday  i w...</td>\n",
       "      <td>with out notice jp morgan chase restrict my account by my debit card tuesday   on thursday   I g...</td>\n",
       "      <td>notice account debit card branch customer service representative account branch fund deposit pla...</td>\n",
       "      <td>notice account debit card branch customer service representative account branch fund deposit pla...</td>\n",
       "      <td>0</td>\n",
       "    </tr>\n",
       "    <tr>\n",
       "      <th>35</th>\n",
       "      <td>i opened the saving account for the  bonus i was supposed to received the  bonus after  consecut...</td>\n",
       "      <td>I open the saving account for the   bonus I be suppose to received the   bonus after   consecuti...</td>\n",
       "      <td>saving account bonus bonus auto transfer check transfer fund checking account fund account reque...</td>\n",
       "      <td>saving account bonus bonus auto transfer check transfer fund checking account fund account reque...</td>\n",
       "      <td>0</td>\n",
       "    </tr>\n",
       "    <tr>\n",
       "      <th>24</th>\n",
       "      <td>mishandling of this account by chase auto and</td>\n",
       "      <td>mishandle of this account by chase auto and</td>\n",
       "      <td>mishandle account chase auto</td>\n",
       "      <td>mishandle account chase auto</td>\n",
       "      <td>0</td>\n",
       "    </tr>\n",
       "    <tr>\n",
       "      <th>2</th>\n",
       "      <td>i upgraded my   card in  and was told by the agent who did the upgrade my anniversary date would...</td>\n",
       "      <td>I upgrade my    card in   and be tell by the agent who do the upgrade my anniversary date would ...</td>\n",
       "      <td>card agent anniversary date agent information order account anniversary date consent recording a...</td>\n",
       "      <td>card agent anniversary date agent information order account anniversary date consent recording a...</td>\n",
       "      <td>1</td>\n",
       "    </tr>\n",
       "    <tr>\n",
       "      <th>59</th>\n",
       "      <td>i currently have over  chase ultimate rewards points which are worth at least  \\n\\naround    mon...</td>\n",
       "      <td>I currently have over   chase ultimate reward point which be worth at least  \\n\\n around     mon...</td>\n",
       "      <td>reward point month chase bonus freedom page request time image attach error chase week customer ...</td>\n",
       "      <td>reward point month chase bonus freedom page request time image attach error chase week customer ...</td>\n",
       "      <td>1</td>\n",
       "    </tr>\n",
       "    <tr>\n",
       "      <th>52</th>\n",
       "      <td>my roommate was stealing my chase debit card and drivers license  pretending to be me and withdr...</td>\n",
       "      <td>my roommate be steal my chase debit card and driver license   pretend to be I and withdraw money...</td>\n",
       "      <td>roommate chase debit card driver license money account pin phone password room card money chase ...</td>\n",
       "      <td>roommate chase debit card driver license money account pin phone password room card money chase ...</td>\n",
       "      <td>1</td>\n",
       "    </tr>\n",
       "    <tr>\n",
       "      <th>50</th>\n",
       "      <td>i am a senior citizen that has been scammed by several companies from  to  i have paid over  to ...</td>\n",
       "      <td>I be a senior citizen that have be scamme by several company from   to   I have pay over   to th...</td>\n",
       "      <td>citizen company time share company nothing refund credit card information company</td>\n",
       "      <td>citizen company time share company nothing refund credit card information company</td>\n",
       "      <td>1</td>\n",
       "    </tr>\n",
       "    <tr>\n",
       "      <th>32</th>\n",
       "      <td>my chase amazon card was declined for a catering order i had placed for my brothers funeral in t...</td>\n",
       "      <td>my chase amazon card be decline for a catering order I have place for my brother funeral in the ...</td>\n",
       "      <td>chase amazon card decline catering order place brother funeral amount chase noon today number ch...</td>\n",
       "      <td>chase amazon card decline catering order place brother funeral amount chase noon today number ch...</td>\n",
       "      <td>1</td>\n",
       "    </tr>\n",
       "    <tr>\n",
       "      <th>58</th>\n",
       "      <td>i made a purchase of  on  i made payments of  on  and  on  the minimum payment was  the closing ...</td>\n",
       "      <td>I make a purchase of   on   I make payment of   on   and   on   the minimum payment be   the clo...</td>\n",
       "      <td>purchase payment payment closing date statement statement purchase balance month statement purch...</td>\n",
       "      <td>purchase payment payment closing date statement statement purchase balance month statement purch...</td>\n",
       "      <td>2</td>\n",
       "    </tr>\n",
       "    <tr>\n",
       "      <th>57</th>\n",
       "      <td>i have been trying to do a loan modification with chase and all they do is give me the runaround...</td>\n",
       "      <td>I have be try to do a loan modification with chase and all they do be give I the runaround I m  ...</td>\n",
       "      <td>loan modification chase runaround mo payment doc</td>\n",
       "      <td>loan modification chase runaround mo payment doc</td>\n",
       "      <td>2</td>\n",
       "    </tr>\n",
       "    <tr>\n",
       "      <th>1</th>\n",
       "      <td>good morning my name is   and i appreciate it if you could help me put a stop to chase bank card...</td>\n",
       "      <td>good morning my name be    and I appreciate it if you could help I put a stop to chase bank card...</td>\n",
       "      <td>morning name stop bank service debt verification statement bank debt mail month debt right infor...</td>\n",
       "      <td>morning name stop bank service debt verification statement bank debt mail month debt right infor...</td>\n",
       "      <td>2</td>\n",
       "    </tr>\n",
       "    <tr>\n",
       "      <th>20</th>\n",
       "      <td>during the summer months i experience a decline income due to my employment therefore i request ...</td>\n",
       "      <td>during the summer month I experience a decline income due to my employment therefore I request a...</td>\n",
       "      <td>summer month decline income employment month payment extension auto loan company chase past year...</td>\n",
       "      <td>summer month decline income employment month payment extension auto loan company chase past year...</td>\n",
       "      <td>2</td>\n",
       "    </tr>\n",
       "    <tr>\n",
       "      <th>73</th>\n",
       "      <td>i have wired through one of chase branches in   the exact reinstatement amount of  to jpmorgan c...</td>\n",
       "      <td>I have wire through one of chase branch in    the exact reinstatement amount of   to jpmorgan ch...</td>\n",
       "      <td>wire branch reinstatement amount order foreclosure property executive trustee rule regulation pa...</td>\n",
       "      <td>wire branch reinstatement amount order foreclosure property executive trustee rule regulation pa...</td>\n",
       "      <td>2</td>\n",
       "    </tr>\n",
       "    <tr>\n",
       "      <th>26</th>\n",
       "      <td>i have reached out to  several times in attempt to have this fraudulent inquiry removed i was to...</td>\n",
       "      <td>I have reach out to   several time in attempt to have this fraudulent inquiry remove I be tell t...</td>\n",
       "      <td>time attempt inquiry remove creditor inquiry report attempt chase bank bureau inquiry person car...</td>\n",
       "      <td>time attempt inquiry remove creditor inquiry report attempt chase bank bureau inquiry person car...</td>\n",
       "      <td>3</td>\n",
       "    </tr>\n",
       "    <tr>\n",
       "      <th>23</th>\n",
       "      <td>i have a chase credit card which is incorrectly reporting data on my credit report the company i...</td>\n",
       "      <td>I have a chase credit card which be incorrectly report datum on my credit report the company be ...</td>\n",
       "      <td>chase credit card datum credit report company issue</td>\n",
       "      <td>chase credit card datum credit report company issue</td>\n",
       "      <td>3</td>\n",
       "    </tr>\n",
       "    <tr>\n",
       "      <th>15</th>\n",
       "      <td>can you please remove inquiry</td>\n",
       "      <td>can you please remove inquiry</td>\n",
       "      <td>inquiry</td>\n",
       "      <td>inquiry</td>\n",
       "      <td>3</td>\n",
       "    </tr>\n",
       "    <tr>\n",
       "      <th>11</th>\n",
       "      <td>on  while trying to book a     ticket i came across an offer for  to be applied towards the tick...</td>\n",
       "      <td>on   while try to book a      ticket I come across an offer for   to be apply towards the ticket...</td>\n",
       "      <td>ticket offer ticket reward card information offer minute screen decision refer bank chase bank n...</td>\n",
       "      <td>ticket offer ticket reward card information offer minute screen decision refer bank chase bank n...</td>\n",
       "      <td>3</td>\n",
       "    </tr>\n",
       "    <tr>\n",
       "      <th>10</th>\n",
       "      <td>chase card was reported on  however fraudulent application have been submitted my identity witho...</td>\n",
       "      <td>chase card be report on   however fraudulent application have be submit my identity without my c...</td>\n",
       "      <td>card report application identity consent service credit identity applicant</td>\n",
       "      <td>card report application identity consent service credit identity applicant</td>\n",
       "      <td>3</td>\n",
       "    </tr>\n",
       "    <tr>\n",
       "      <th>30</th>\n",
       "      <td>to whom it may concern chase bank charged wrongly overdraft fees i have alert of low balance or ...</td>\n",
       "      <td>to whom it may concern chase bank charge wrongly overdraft fee I have alert of low balance or un...</td>\n",
       "      <td>concern bank charge overdraft fee alert balance fee balance transaction need chase order charge ...</td>\n",
       "      <td>concern bank charge overdraft fee alert balance fee balance transaction need chase order charge ...</td>\n",
       "      <td>4</td>\n",
       "    </tr>\n",
       "    <tr>\n",
       "      <th>40</th>\n",
       "      <td>a sofa love seat table and chairs and was never delivered debit card charged  bank says visa d...</td>\n",
       "      <td>a sofa love seat table and chair and be never deliver debit card charge   bank say visa deny ...</td>\n",
       "      <td>sofa love seat table chair debit card charge visa claim furniture money</td>\n",
       "      <td>sofa love seat table chair debit card charge visa claim furniture money</td>\n",
       "      <td>4</td>\n",
       "    </tr>\n",
       "    <tr>\n",
       "      <th>45</th>\n",
       "      <td>i made a purchase with    on  in the amount of  i was charged twice for this transaction i place...</td>\n",
       "      <td>I make a purchase with     on   in the amount of   I be charge twice for this transaction I plac...</td>\n",
       "      <td>purchase amount transaction dispute case charge account credit charge charge credit debt card ba...</td>\n",
       "      <td>purchase amount transaction dispute case charge account credit charge charge credit debt card ba...</td>\n",
       "      <td>4</td>\n",
       "    </tr>\n",
       "    <tr>\n",
       "      <th>21</th>\n",
       "      <td>on   i made a  payment to an online retailer using chase quick pay with  on the chase website i ...</td>\n",
       "      <td>on    I make a   payment to an online retailer use chase quick pay with   on the chase website I...</td>\n",
       "      <td>payment retailer use pay chase website scam website confirmation product response inquiry order ...</td>\n",
       "      <td>payment retailer use pay chase website scam website confirmation product response inquiry order ...</td>\n",
       "      <td>4</td>\n",
       "    </tr>\n",
       "    <tr>\n",
       "      <th>63</th>\n",
       "      <td>i tried to send almost  at  and the transaction was cancelled due to having no id i was charged ...</td>\n",
       "      <td>I try to send almost   at   and the transaction be cancel due to have no i d I be charge but nev...</td>\n",
       "      <td>transaction i d charge service refund card account</td>\n",
       "      <td>transaction i d charge service refund card account</td>\n",
       "      <td>4</td>\n",
       "    </tr>\n",
       "  </tbody>\n",
       "</table>\n",
       "</div>"
      ],
      "text/plain": [
       "                                                                                             complaints  \\\n",
       "27  i opened an account with chase bank on  and used a code for  bonus i called to follow up on  abo...   \n",
       "14  my grand son give me check for  i deposit it into my chase account after fund clear my chase ban...   \n",
       "17  with out notice jp morgan chase restricted my account by my debit card tuesday  on thursday  i w...   \n",
       "35  i opened the saving account for the  bonus i was supposed to received the  bonus after  consecut...   \n",
       "24                                                       mishandling of this account by chase auto and    \n",
       "2   i upgraded my   card in  and was told by the agent who did the upgrade my anniversary date would...   \n",
       "59  i currently have over  chase ultimate rewards points which are worth at least  \\n\\naround    mon...   \n",
       "52  my roommate was stealing my chase debit card and drivers license  pretending to be me and withdr...   \n",
       "50  i am a senior citizen that has been scammed by several companies from  to  i have paid over  to ...   \n",
       "32  my chase amazon card was declined for a catering order i had placed for my brothers funeral in t...   \n",
       "58  i made a purchase of  on  i made payments of  on  and  on  the minimum payment was  the closing ...   \n",
       "57  i have been trying to do a loan modification with chase and all they do is give me the runaround...   \n",
       "1   good morning my name is   and i appreciate it if you could help me put a stop to chase bank card...   \n",
       "20  during the summer months i experience a decline income due to my employment therefore i request ...   \n",
       "73  i have wired through one of chase branches in   the exact reinstatement amount of  to jpmorgan c...   \n",
       "26  i have reached out to  several times in attempt to have this fraudulent inquiry removed i was to...   \n",
       "23  i have a chase credit card which is incorrectly reporting data on my credit report the company i...   \n",
       "15                                                                        can you please remove inquiry   \n",
       "11  on  while trying to book a     ticket i came across an offer for  to be applied towards the tick...   \n",
       "10  chase card was reported on  however fraudulent application have been submitted my identity witho...   \n",
       "30  to whom it may concern chase bank charged wrongly overdraft fees i have alert of low balance or ...   \n",
       "40    a sofa love seat table and chairs and was never delivered debit card charged  bank says visa d...   \n",
       "45  i made a purchase with    on  in the amount of  i was charged twice for this transaction i place...   \n",
       "21  on   i made a  payment to an online retailer using chase quick pay with  on the chase website i ...   \n",
       "63  i tried to send almost  at  and the transaction was cancelled due to having no id i was charged ...   \n",
       "\n",
       "                                                                                             lemmatized  \\\n",
       "27  I open an account with chase bank on   and use a code for   bonus I call to follow up on   about...   \n",
       "14  my grand son give I check for   I deposit it into my chase account after fund clear my chase ban...   \n",
       "17  with out notice jp morgan chase restrict my account by my debit card tuesday   on thursday   I g...   \n",
       "35  I open the saving account for the   bonus I be suppose to received the   bonus after   consecuti...   \n",
       "24                                                          mishandle of this account by chase auto and   \n",
       "2   I upgrade my    card in   and be tell by the agent who do the upgrade my anniversary date would ...   \n",
       "59  I currently have over   chase ultimate reward point which be worth at least  \\n\\n around     mon...   \n",
       "52  my roommate be steal my chase debit card and driver license   pretend to be I and withdraw money...   \n",
       "50  I be a senior citizen that have be scamme by several company from   to   I have pay over   to th...   \n",
       "32  my chase amazon card be decline for a catering order I have place for my brother funeral in the ...   \n",
       "58  I make a purchase of   on   I make payment of   on   and   on   the minimum payment be   the clo...   \n",
       "57  I have be try to do a loan modification with chase and all they do be give I the runaround I m  ...   \n",
       "1   good morning my name be    and I appreciate it if you could help I put a stop to chase bank card...   \n",
       "20  during the summer month I experience a decline income due to my employment therefore I request a...   \n",
       "73  I have wire through one of chase branch in    the exact reinstatement amount of   to jpmorgan ch...   \n",
       "26  I have reach out to   several time in attempt to have this fraudulent inquiry remove I be tell t...   \n",
       "23  I have a chase credit card which be incorrectly report datum on my credit report the company be ...   \n",
       "15                                                                        can you please remove inquiry   \n",
       "11  on   while try to book a      ticket I come across an offer for   to be apply towards the ticket...   \n",
       "10  chase card be report on   however fraudulent application have be submit my identity without my c...   \n",
       "30  to whom it may concern chase bank charge wrongly overdraft fee I have alert of low balance or un...   \n",
       "40     a sofa love seat table and chair and be never deliver debit card charge   bank say visa deny ...   \n",
       "45  I make a purchase with     on   in the amount of   I be charge twice for this transaction I plac...   \n",
       "21  on    I make a   payment to an online retailer use chase quick pay with   on the chase website I...   \n",
       "63  I try to send almost   at   and the transaction be cancel due to have no i d I be charge but nev...   \n",
       "\n",
       "                                                                                  complaint_POS_removed  \\\n",
       "27   account code bonus term everything account deposit bonus day deposit account coupon code day bonus   \n",
       "14  son chase account fund chase bank account money son check money chase bank money time check owne...   \n",
       "17  notice account debit card branch customer service representative account branch fund deposit pla...   \n",
       "35  saving account bonus bonus auto transfer check transfer fund checking account fund account reque...   \n",
       "24                                                                         mishandle account chase auto   \n",
       "2   card agent anniversary date agent information order account anniversary date consent recording a...   \n",
       "59  reward point month chase bonus freedom page request time image attach error chase week customer ...   \n",
       "52  roommate chase debit card driver license money account pin phone password room card money chase ...   \n",
       "50                    citizen company time share company nothing refund credit card information company   \n",
       "32  chase amazon card decline catering order place brother funeral amount chase noon today number ch...   \n",
       "58  purchase payment payment closing date statement statement purchase balance month statement purch...   \n",
       "57                                                     loan modification chase runaround mo payment doc   \n",
       "1   morning name stop bank service debt verification statement bank debt mail month debt right infor...   \n",
       "20  summer month decline income employment month payment extension auto loan company chase past year...   \n",
       "73  wire branch reinstatement amount order foreclosure property executive trustee rule regulation pa...   \n",
       "26  time attempt inquiry remove creditor inquiry report attempt chase bank bureau inquiry person car...   \n",
       "23                                                  chase credit card datum credit report company issue   \n",
       "15                                                                                              inquiry   \n",
       "11  ticket offer ticket reward card information offer minute screen decision refer bank chase bank n...   \n",
       "10                           card report application identity consent service credit identity applicant   \n",
       "30  concern bank charge overdraft fee alert balance fee balance transaction need chase order charge ...   \n",
       "40                              sofa love seat table chair debit card charge visa claim furniture money   \n",
       "45  purchase amount transaction dispute case charge account credit charge charge credit debt card ba...   \n",
       "21  payment retailer use pay chase website scam website confirmation product response inquiry order ...   \n",
       "63                                                   transaction i d charge service refund card account   \n",
       "\n",
       "                                                                                        Complaint_clean  \\\n",
       "27   account code bonus term everything account deposit bonus day deposit account coupon code day bonus   \n",
       "14  son chase account fund chase bank account money son check money chase bank money time check owne...   \n",
       "17  notice account debit card branch customer service representative account branch fund deposit pla...   \n",
       "35  saving account bonus bonus auto transfer check transfer fund checking account fund account reque...   \n",
       "24                                                                         mishandle account chase auto   \n",
       "2   card agent anniversary date agent information order account anniversary date consent recording a...   \n",
       "59  reward point month chase bonus freedom page request time image attach error chase week customer ...   \n",
       "52  roommate chase debit card driver license money account pin phone password room card money chase ...   \n",
       "50                    citizen company time share company nothing refund credit card information company   \n",
       "32  chase amazon card decline catering order place brother funeral amount chase noon today number ch...   \n",
       "58  purchase payment payment closing date statement statement purchase balance month statement purch...   \n",
       "57                                                     loan modification chase runaround mo payment doc   \n",
       "1   morning name stop bank service debt verification statement bank debt mail month debt right infor...   \n",
       "20  summer month decline income employment month payment extension auto loan company chase past year...   \n",
       "73  wire branch reinstatement amount order foreclosure property executive trustee rule regulation pa...   \n",
       "26  time attempt inquiry remove creditor inquiry report attempt chase bank bureau inquiry person car...   \n",
       "23                                                  chase credit card datum credit report company issue   \n",
       "15                                                                                              inquiry   \n",
       "11  ticket offer ticket reward card information offer minute screen decision refer bank chase bank n...   \n",
       "10                           card report application identity consent service credit identity applicant   \n",
       "30  concern bank charge overdraft fee alert balance fee balance transaction need chase order charge ...   \n",
       "40                              sofa love seat table chair debit card charge visa claim furniture money   \n",
       "45  purchase amount transaction dispute case charge account credit charge charge credit debt card ba...   \n",
       "21  payment retailer use pay chase website scam website confirmation product response inquiry order ...   \n",
       "63                                                   transaction i d charge service refund card account   \n",
       "\n",
       "    Topic  \n",
       "27      0  \n",
       "14      0  \n",
       "17      0  \n",
       "35      0  \n",
       "24      0  \n",
       "2       1  \n",
       "59      1  \n",
       "52      1  \n",
       "50      1  \n",
       "32      1  \n",
       "58      2  \n",
       "57      2  \n",
       "1       2  \n",
       "20      2  \n",
       "73      2  \n",
       "26      3  \n",
       "23      3  \n",
       "15      3  \n",
       "11      3  \n",
       "10      3  \n",
       "30      4  \n",
       "40      4  \n",
       "45      4  \n",
       "21      4  \n",
       "63      4  "
      ]
     },
     "execution_count": 56,
     "metadata": {},
     "output_type": "execute_result"
    }
   ],
   "source": [
    "#Print the first 5 Complaint for each of the Topics\n",
    "df_clean_5= df_clean.groupby('Topic').head(5)\n",
    "df_clean_5.sort_values('Topic')"
   ]
  },
  {
   "cell_type": "markdown",
   "metadata": {
    "id": "piyLxzj6v07j"
   },
   "source": [
    "#### After evaluating the mapping, if the topics assigned are correct then assign these names to the relevant topic:\n",
    "* Bank Account services\n",
    "* Credit card or prepaid card\n",
    "* Theft/Dispute Reporting\n",
    "* Mortgage/Loan\n",
    "* Others"
   ]
  },
  {
   "cell_type": "code",
   "execution_count": 57,
   "metadata": {
    "id": "TWpwDG4RJrGG"
   },
   "outputs": [],
   "source": [
    "#Create the dictionary of Topic names and Topics\n",
    "\n",
    "Topic_names = {0:\"Bank Account services\",\n",
    "               1:\"Credit card or prepaid card\", \n",
    "               2:\"Mortgage/Loan\",\n",
    "               3:\"Theft/Dispute Reporting\",\n",
    "               4:\"Others\"}\n",
    "#Replace Topics with Topic Names\n",
    "df_clean['Topic'] = df_clean['Topic'].replace(Topic_names)"
   ]
  },
  {
   "cell_type": "code",
   "execution_count": 58,
   "metadata": {},
   "outputs": [
    {
     "data": {
      "text/html": [
       "<div>\n",
       "<style scoped>\n",
       "    .dataframe tbody tr th:only-of-type {\n",
       "        vertical-align: middle;\n",
       "    }\n",
       "\n",
       "    .dataframe tbody tr th {\n",
       "        vertical-align: top;\n",
       "    }\n",
       "\n",
       "    .dataframe thead th {\n",
       "        text-align: right;\n",
       "    }\n",
       "</style>\n",
       "<table border=\"1\" class=\"dataframe\">\n",
       "  <thead>\n",
       "    <tr style=\"text-align: right;\">\n",
       "      <th></th>\n",
       "      <th>complaints</th>\n",
       "      <th>lemmatized</th>\n",
       "      <th>complaint_POS_removed</th>\n",
       "      <th>Complaint_clean</th>\n",
       "      <th>Topic</th>\n",
       "    </tr>\n",
       "  </thead>\n",
       "  <tbody>\n",
       "    <tr>\n",
       "      <th>1</th>\n",
       "      <td>good morning my name is   and i appreciate it if you could help me put a stop to chase bank card...</td>\n",
       "      <td>good morning my name be    and I appreciate it if you could help I put a stop to chase bank card...</td>\n",
       "      <td>morning name stop bank service debt verification statement bank debt mail month debt right infor...</td>\n",
       "      <td>morning name stop bank service debt verification statement bank debt mail month debt right infor...</td>\n",
       "      <td>Mortgage/Loan</td>\n",
       "    </tr>\n",
       "    <tr>\n",
       "      <th>2</th>\n",
       "      <td>i upgraded my   card in  and was told by the agent who did the upgrade my anniversary date would...</td>\n",
       "      <td>I upgrade my    card in   and be tell by the agent who do the upgrade my anniversary date would ...</td>\n",
       "      <td>card agent anniversary date agent information order account anniversary date consent recording a...</td>\n",
       "      <td>card agent anniversary date agent information order account anniversary date consent recording a...</td>\n",
       "      <td>Credit card or prepaid card</td>\n",
       "    </tr>\n",
       "    <tr>\n",
       "      <th>10</th>\n",
       "      <td>chase card was reported on  however fraudulent application have been submitted my identity witho...</td>\n",
       "      <td>chase card be report on   however fraudulent application have be submit my identity without my c...</td>\n",
       "      <td>card report application identity consent service credit identity applicant</td>\n",
       "      <td>card report application identity consent service credit identity applicant</td>\n",
       "      <td>Theft/Dispute Reporting</td>\n",
       "    </tr>\n",
       "    <tr>\n",
       "      <th>11</th>\n",
       "      <td>on  while trying to book a     ticket i came across an offer for  to be applied towards the tick...</td>\n",
       "      <td>on   while try to book a      ticket I come across an offer for   to be apply towards the ticket...</td>\n",
       "      <td>ticket offer ticket reward card information offer minute screen decision refer bank chase bank n...</td>\n",
       "      <td>ticket offer ticket reward card information offer minute screen decision refer bank chase bank n...</td>\n",
       "      <td>Theft/Dispute Reporting</td>\n",
       "    </tr>\n",
       "    <tr>\n",
       "      <th>14</th>\n",
       "      <td>my grand son give me check for  i deposit it into my chase account after fund clear my chase ban...</td>\n",
       "      <td>my grand son give I check for   I deposit it into my chase account after fund clear my chase ban...</td>\n",
       "      <td>son chase account fund chase bank account money son check money chase bank money time check owne...</td>\n",
       "      <td>son chase account fund chase bank account money son check money chase bank money time check owne...</td>\n",
       "      <td>Bank Account services</td>\n",
       "    </tr>\n",
       "    <tr>\n",
       "      <th>15</th>\n",
       "      <td>can you please remove inquiry</td>\n",
       "      <td>can you please remove inquiry</td>\n",
       "      <td>inquiry</td>\n",
       "      <td>inquiry</td>\n",
       "      <td>Theft/Dispute Reporting</td>\n",
       "    </tr>\n",
       "    <tr>\n",
       "      <th>17</th>\n",
       "      <td>with out notice jp morgan chase restricted my account by my debit card tuesday  on thursday  i w...</td>\n",
       "      <td>with out notice jp morgan chase restrict my account by my debit card tuesday   on thursday   I g...</td>\n",
       "      <td>notice account debit card branch customer service representative account branch fund deposit pla...</td>\n",
       "      <td>notice account debit card branch customer service representative account branch fund deposit pla...</td>\n",
       "      <td>Bank Account services</td>\n",
       "    </tr>\n",
       "    <tr>\n",
       "      <th>20</th>\n",
       "      <td>during the summer months i experience a decline income due to my employment therefore i request ...</td>\n",
       "      <td>during the summer month I experience a decline income due to my employment therefore I request a...</td>\n",
       "      <td>summer month decline income employment month payment extension auto loan company chase past year...</td>\n",
       "      <td>summer month decline income employment month payment extension auto loan company chase past year...</td>\n",
       "      <td>Mortgage/Loan</td>\n",
       "    </tr>\n",
       "    <tr>\n",
       "      <th>21</th>\n",
       "      <td>on   i made a  payment to an online retailer using chase quick pay with  on the chase website i ...</td>\n",
       "      <td>on    I make a   payment to an online retailer use chase quick pay with   on the chase website I...</td>\n",
       "      <td>payment retailer use pay chase website scam website confirmation product response inquiry order ...</td>\n",
       "      <td>payment retailer use pay chase website scam website confirmation product response inquiry order ...</td>\n",
       "      <td>Others</td>\n",
       "    </tr>\n",
       "    <tr>\n",
       "      <th>23</th>\n",
       "      <td>i have a chase credit card which is incorrectly reporting data on my credit report the company i...</td>\n",
       "      <td>I have a chase credit card which be incorrectly report datum on my credit report the company be ...</td>\n",
       "      <td>chase credit card datum credit report company issue</td>\n",
       "      <td>chase credit card datum credit report company issue</td>\n",
       "      <td>Theft/Dispute Reporting</td>\n",
       "    </tr>\n",
       "    <tr>\n",
       "      <th>24</th>\n",
       "      <td>mishandling of this account by chase auto and</td>\n",
       "      <td>mishandle of this account by chase auto and</td>\n",
       "      <td>mishandle account chase auto</td>\n",
       "      <td>mishandle account chase auto</td>\n",
       "      <td>Bank Account services</td>\n",
       "    </tr>\n",
       "    <tr>\n",
       "      <th>26</th>\n",
       "      <td>i have reached out to  several times in attempt to have this fraudulent inquiry removed i was to...</td>\n",
       "      <td>I have reach out to   several time in attempt to have this fraudulent inquiry remove I be tell t...</td>\n",
       "      <td>time attempt inquiry remove creditor inquiry report attempt chase bank bureau inquiry person car...</td>\n",
       "      <td>time attempt inquiry remove creditor inquiry report attempt chase bank bureau inquiry person car...</td>\n",
       "      <td>Theft/Dispute Reporting</td>\n",
       "    </tr>\n",
       "    <tr>\n",
       "      <th>27</th>\n",
       "      <td>i opened an account with chase bank on  and used a code for  bonus i called to follow up on  abo...</td>\n",
       "      <td>I open an account with chase bank on   and use a code for   bonus I call to follow up on   about...</td>\n",
       "      <td>account code bonus term everything account deposit bonus day deposit account coupon code day bonus</td>\n",
       "      <td>account code bonus term everything account deposit bonus day deposit account coupon code day bonus</td>\n",
       "      <td>Bank Account services</td>\n",
       "    </tr>\n",
       "    <tr>\n",
       "      <th>30</th>\n",
       "      <td>to whom it may concern chase bank charged wrongly overdraft fees i have alert of low balance or ...</td>\n",
       "      <td>to whom it may concern chase bank charge wrongly overdraft fee I have alert of low balance or un...</td>\n",
       "      <td>concern bank charge overdraft fee alert balance fee balance transaction need chase order charge ...</td>\n",
       "      <td>concern bank charge overdraft fee alert balance fee balance transaction need chase order charge ...</td>\n",
       "      <td>Others</td>\n",
       "    </tr>\n",
       "    <tr>\n",
       "      <th>32</th>\n",
       "      <td>my chase amazon card was declined for a catering order i had placed for my brothers funeral in t...</td>\n",
       "      <td>my chase amazon card be decline for a catering order I have place for my brother funeral in the ...</td>\n",
       "      <td>chase amazon card decline catering order place brother funeral amount chase noon today number ch...</td>\n",
       "      <td>chase amazon card decline catering order place brother funeral amount chase noon today number ch...</td>\n",
       "      <td>Credit card or prepaid card</td>\n",
       "    </tr>\n",
       "    <tr>\n",
       "      <th>35</th>\n",
       "      <td>i opened the saving account for the  bonus i was supposed to received the  bonus after  consecut...</td>\n",
       "      <td>I open the saving account for the   bonus I be suppose to received the   bonus after   consecuti...</td>\n",
       "      <td>saving account bonus bonus auto transfer check transfer fund checking account fund account reque...</td>\n",
       "      <td>saving account bonus bonus auto transfer check transfer fund checking account fund account reque...</td>\n",
       "      <td>Bank Account services</td>\n",
       "    </tr>\n",
       "    <tr>\n",
       "      <th>40</th>\n",
       "      <td>a sofa love seat table and chairs and was never delivered debit card charged  bank says visa d...</td>\n",
       "      <td>a sofa love seat table and chair and be never deliver debit card charge   bank say visa deny ...</td>\n",
       "      <td>sofa love seat table chair debit card charge visa claim furniture money</td>\n",
       "      <td>sofa love seat table chair debit card charge visa claim furniture money</td>\n",
       "      <td>Others</td>\n",
       "    </tr>\n",
       "    <tr>\n",
       "      <th>42</th>\n",
       "      <td>my card went missing and i didnt realize it until today i checked my email and they said there h...</td>\n",
       "      <td>my card go missing and I do not realize it until today I check my email and they say there have ...</td>\n",
       "      <td>card today email deposit money bank account gone</td>\n",
       "      <td>card today email deposit money bank account gone</td>\n",
       "      <td>Bank Account services</td>\n",
       "    </tr>\n",
       "    <tr>\n",
       "      <th>43</th>\n",
       "      <td>chase sent me an email today with the innocuous title  important information regarding changes t...</td>\n",
       "      <td>chase send I an email today with the innocuous title   important information regard change to yo...</td>\n",
       "      <td>chase email today title information regard change chase account title ad communication bind arbi...</td>\n",
       "      <td>chase email today title information regard change chase account title ad communication bind arbi...</td>\n",
       "      <td>Bank Account services</td>\n",
       "    </tr>\n",
       "    <tr>\n",
       "      <th>45</th>\n",
       "      <td>i made a purchase with    on  in the amount of  i was charged twice for this transaction i place...</td>\n",
       "      <td>I make a purchase with     on   in the amount of   I be charge twice for this transaction I plac...</td>\n",
       "      <td>purchase amount transaction dispute case charge account credit charge charge credit debt card ba...</td>\n",
       "      <td>purchase amount transaction dispute case charge account credit charge charge credit debt card ba...</td>\n",
       "      <td>Others</td>\n",
       "    </tr>\n",
       "    <tr>\n",
       "      <th>48</th>\n",
       "      <td>jp morgan chase bank please answer the following questions    on      jpmorgan chase accessed in...</td>\n",
       "      <td>jp morgan chase bank please answer the follow question     on       jpmorgan chase access inform...</td>\n",
       "      <td>follow question access information reason access information chase check account routing number ...</td>\n",
       "      <td>follow question access information reason access information chase check account routing number ...</td>\n",
       "      <td>Theft/Dispute Reporting</td>\n",
       "    </tr>\n",
       "    <tr>\n",
       "      <th>50</th>\n",
       "      <td>i am a senior citizen that has been scammed by several companies from  to  i have paid over  to ...</td>\n",
       "      <td>I be a senior citizen that have be scamme by several company from   to   I have pay over   to th...</td>\n",
       "      <td>citizen company time share company nothing refund credit card information company</td>\n",
       "      <td>citizen company time share company nothing refund credit card information company</td>\n",
       "      <td>Credit card or prepaid card</td>\n",
       "    </tr>\n",
       "    <tr>\n",
       "      <th>52</th>\n",
       "      <td>my roommate was stealing my chase debit card and drivers license  pretending to be me and withdr...</td>\n",
       "      <td>my roommate be steal my chase debit card and driver license   pretend to be I and withdraw money...</td>\n",
       "      <td>roommate chase debit card driver license money account pin phone password room card money chase ...</td>\n",
       "      <td>roommate chase debit card driver license money account pin phone password room card money chase ...</td>\n",
       "      <td>Credit card or prepaid card</td>\n",
       "    </tr>\n",
       "    <tr>\n",
       "      <th>57</th>\n",
       "      <td>i have been trying to do a loan modification with chase and all they do is give me the runaround...</td>\n",
       "      <td>I have be try to do a loan modification with chase and all they do be give I the runaround I m  ...</td>\n",
       "      <td>loan modification chase runaround mo payment doc</td>\n",
       "      <td>loan modification chase runaround mo payment doc</td>\n",
       "      <td>Mortgage/Loan</td>\n",
       "    </tr>\n",
       "    <tr>\n",
       "      <th>58</th>\n",
       "      <td>i made a purchase of  on  i made payments of  on  and  on  the minimum payment was  the closing ...</td>\n",
       "      <td>I make a purchase of   on   I make payment of   on   and   on   the minimum payment be   the clo...</td>\n",
       "      <td>purchase payment payment closing date statement statement purchase balance month statement purch...</td>\n",
       "      <td>purchase payment payment closing date statement statement purchase balance month statement purch...</td>\n",
       "      <td>Mortgage/Loan</td>\n",
       "    </tr>\n",
       "    <tr>\n",
       "      <th>59</th>\n",
       "      <td>i currently have over  chase ultimate rewards points which are worth at least  \\n\\naround    mon...</td>\n",
       "      <td>I currently have over   chase ultimate reward point which be worth at least  \\n\\n around     mon...</td>\n",
       "      <td>reward point month chase bonus freedom page request time image attach error chase week customer ...</td>\n",
       "      <td>reward point month chase bonus freedom page request time image attach error chase week customer ...</td>\n",
       "      <td>Credit card or prepaid card</td>\n",
       "    </tr>\n",
       "    <tr>\n",
       "      <th>63</th>\n",
       "      <td>i tried to send almost  at  and the transaction was cancelled due to having no id i was charged ...</td>\n",
       "      <td>I try to send almost   at   and the transaction be cancel due to have no i d I be charge but nev...</td>\n",
       "      <td>transaction i d charge service refund card account</td>\n",
       "      <td>transaction i d charge service refund card account</td>\n",
       "      <td>Others</td>\n",
       "    </tr>\n",
       "    <tr>\n",
       "      <th>64</th>\n",
       "      <td>chase is marketing credit cards to those of us with good credit like its going out of style be c...</td>\n",
       "      <td>chase be market credit card to those of we with good credit like its go out of style be careful ...</td>\n",
       "      <td>chase market credit card credit style marketing swa chase card online triangle waste time money ...</td>\n",
       "      <td>chase market credit card credit style marketing swa chase card online triangle waste time money ...</td>\n",
       "      <td>Credit card or prepaid card</td>\n",
       "    </tr>\n",
       "    <tr>\n",
       "      <th>65</th>\n",
       "      <td>i opened the chase  rewards credit card at the time i was verbally told that the offer was  rapi...</td>\n",
       "      <td>I open the chase   reward credit card at the time I be verbally tell that the offer be   rapid r...</td>\n",
       "      <td>chase credit card time offer reward point companion pass month link provide credit card offer ti...</td>\n",
       "      <td>chase credit card time offer reward point companion pass month link provide credit card offer ti...</td>\n",
       "      <td>Credit card or prepaid card</td>\n",
       "    </tr>\n",
       "    <tr>\n",
       "      <th>69</th>\n",
       "      <td>someone called stating i had felony committed under my social security number and name took  out...</td>\n",
       "      <td>someone call state I have felony commit under my social security number and name take   out of m...</td>\n",
       "      <td>someone call state felony commit security number name check account asset state police department</td>\n",
       "      <td>someone call state felony commit security number name check account asset state police department</td>\n",
       "      <td>Bank Account services</td>\n",
       "    </tr>\n",
       "  </tbody>\n",
       "</table>\n",
       "</div>"
      ],
      "text/plain": [
       "                                                                                             complaints  \\\n",
       "1   good morning my name is   and i appreciate it if you could help me put a stop to chase bank card...   \n",
       "2   i upgraded my   card in  and was told by the agent who did the upgrade my anniversary date would...   \n",
       "10  chase card was reported on  however fraudulent application have been submitted my identity witho...   \n",
       "11  on  while trying to book a     ticket i came across an offer for  to be applied towards the tick...   \n",
       "14  my grand son give me check for  i deposit it into my chase account after fund clear my chase ban...   \n",
       "15                                                                        can you please remove inquiry   \n",
       "17  with out notice jp morgan chase restricted my account by my debit card tuesday  on thursday  i w...   \n",
       "20  during the summer months i experience a decline income due to my employment therefore i request ...   \n",
       "21  on   i made a  payment to an online retailer using chase quick pay with  on the chase website i ...   \n",
       "23  i have a chase credit card which is incorrectly reporting data on my credit report the company i...   \n",
       "24                                                       mishandling of this account by chase auto and    \n",
       "26  i have reached out to  several times in attempt to have this fraudulent inquiry removed i was to...   \n",
       "27  i opened an account with chase bank on  and used a code for  bonus i called to follow up on  abo...   \n",
       "30  to whom it may concern chase bank charged wrongly overdraft fees i have alert of low balance or ...   \n",
       "32  my chase amazon card was declined for a catering order i had placed for my brothers funeral in t...   \n",
       "35  i opened the saving account for the  bonus i was supposed to received the  bonus after  consecut...   \n",
       "40    a sofa love seat table and chairs and was never delivered debit card charged  bank says visa d...   \n",
       "42  my card went missing and i didnt realize it until today i checked my email and they said there h...   \n",
       "43  chase sent me an email today with the innocuous title  important information regarding changes t...   \n",
       "45  i made a purchase with    on  in the amount of  i was charged twice for this transaction i place...   \n",
       "48  jp morgan chase bank please answer the following questions    on      jpmorgan chase accessed in...   \n",
       "50  i am a senior citizen that has been scammed by several companies from  to  i have paid over  to ...   \n",
       "52  my roommate was stealing my chase debit card and drivers license  pretending to be me and withdr...   \n",
       "57  i have been trying to do a loan modification with chase and all they do is give me the runaround...   \n",
       "58  i made a purchase of  on  i made payments of  on  and  on  the minimum payment was  the closing ...   \n",
       "59  i currently have over  chase ultimate rewards points which are worth at least  \\n\\naround    mon...   \n",
       "63  i tried to send almost  at  and the transaction was cancelled due to having no id i was charged ...   \n",
       "64  chase is marketing credit cards to those of us with good credit like its going out of style be c...   \n",
       "65  i opened the chase  rewards credit card at the time i was verbally told that the offer was  rapi...   \n",
       "69  someone called stating i had felony committed under my social security number and name took  out...   \n",
       "\n",
       "                                                                                             lemmatized  \\\n",
       "1   good morning my name be    and I appreciate it if you could help I put a stop to chase bank card...   \n",
       "2   I upgrade my    card in   and be tell by the agent who do the upgrade my anniversary date would ...   \n",
       "10  chase card be report on   however fraudulent application have be submit my identity without my c...   \n",
       "11  on   while try to book a      ticket I come across an offer for   to be apply towards the ticket...   \n",
       "14  my grand son give I check for   I deposit it into my chase account after fund clear my chase ban...   \n",
       "15                                                                        can you please remove inquiry   \n",
       "17  with out notice jp morgan chase restrict my account by my debit card tuesday   on thursday   I g...   \n",
       "20  during the summer month I experience a decline income due to my employment therefore I request a...   \n",
       "21  on    I make a   payment to an online retailer use chase quick pay with   on the chase website I...   \n",
       "23  I have a chase credit card which be incorrectly report datum on my credit report the company be ...   \n",
       "24                                                          mishandle of this account by chase auto and   \n",
       "26  I have reach out to   several time in attempt to have this fraudulent inquiry remove I be tell t...   \n",
       "27  I open an account with chase bank on   and use a code for   bonus I call to follow up on   about...   \n",
       "30  to whom it may concern chase bank charge wrongly overdraft fee I have alert of low balance or un...   \n",
       "32  my chase amazon card be decline for a catering order I have place for my brother funeral in the ...   \n",
       "35  I open the saving account for the   bonus I be suppose to received the   bonus after   consecuti...   \n",
       "40     a sofa love seat table and chair and be never deliver debit card charge   bank say visa deny ...   \n",
       "42  my card go missing and I do not realize it until today I check my email and they say there have ...   \n",
       "43  chase send I an email today with the innocuous title   important information regard change to yo...   \n",
       "45  I make a purchase with     on   in the amount of   I be charge twice for this transaction I plac...   \n",
       "48  jp morgan chase bank please answer the follow question     on       jpmorgan chase access inform...   \n",
       "50  I be a senior citizen that have be scamme by several company from   to   I have pay over   to th...   \n",
       "52  my roommate be steal my chase debit card and driver license   pretend to be I and withdraw money...   \n",
       "57  I have be try to do a loan modification with chase and all they do be give I the runaround I m  ...   \n",
       "58  I make a purchase of   on   I make payment of   on   and   on   the minimum payment be   the clo...   \n",
       "59  I currently have over   chase ultimate reward point which be worth at least  \\n\\n around     mon...   \n",
       "63  I try to send almost   at   and the transaction be cancel due to have no i d I be charge but nev...   \n",
       "64  chase be market credit card to those of we with good credit like its go out of style be careful ...   \n",
       "65  I open the chase   reward credit card at the time I be verbally tell that the offer be   rapid r...   \n",
       "69  someone call state I have felony commit under my social security number and name take   out of m...   \n",
       "\n",
       "                                                                                  complaint_POS_removed  \\\n",
       "1   morning name stop bank service debt verification statement bank debt mail month debt right infor...   \n",
       "2   card agent anniversary date agent information order account anniversary date consent recording a...   \n",
       "10                           card report application identity consent service credit identity applicant   \n",
       "11  ticket offer ticket reward card information offer minute screen decision refer bank chase bank n...   \n",
       "14  son chase account fund chase bank account money son check money chase bank money time check owne...   \n",
       "15                                                                                              inquiry   \n",
       "17  notice account debit card branch customer service representative account branch fund deposit pla...   \n",
       "20  summer month decline income employment month payment extension auto loan company chase past year...   \n",
       "21  payment retailer use pay chase website scam website confirmation product response inquiry order ...   \n",
       "23                                                  chase credit card datum credit report company issue   \n",
       "24                                                                         mishandle account chase auto   \n",
       "26  time attempt inquiry remove creditor inquiry report attempt chase bank bureau inquiry person car...   \n",
       "27   account code bonus term everything account deposit bonus day deposit account coupon code day bonus   \n",
       "30  concern bank charge overdraft fee alert balance fee balance transaction need chase order charge ...   \n",
       "32  chase amazon card decline catering order place brother funeral amount chase noon today number ch...   \n",
       "35  saving account bonus bonus auto transfer check transfer fund checking account fund account reque...   \n",
       "40                              sofa love seat table chair debit card charge visa claim furniture money   \n",
       "42                                                     card today email deposit money bank account gone   \n",
       "43  chase email today title information regard change chase account title ad communication bind arbi...   \n",
       "45  purchase amount transaction dispute case charge account credit charge charge credit debt card ba...   \n",
       "48  follow question access information reason access information chase check account routing number ...   \n",
       "50                    citizen company time share company nothing refund credit card information company   \n",
       "52  roommate chase debit card driver license money account pin phone password room card money chase ...   \n",
       "57                                                     loan modification chase runaround mo payment doc   \n",
       "58  purchase payment payment closing date statement statement purchase balance month statement purch...   \n",
       "59  reward point month chase bonus freedom page request time image attach error chase week customer ...   \n",
       "63                                                   transaction i d charge service refund card account   \n",
       "64  chase market credit card credit style marketing swa chase card online triangle waste time money ...   \n",
       "65  chase credit card time offer reward point companion pass month link provide credit card offer ti...   \n",
       "69    someone call state felony commit security number name check account asset state police department   \n",
       "\n",
       "                                                                                        Complaint_clean  \\\n",
       "1   morning name stop bank service debt verification statement bank debt mail month debt right infor...   \n",
       "2   card agent anniversary date agent information order account anniversary date consent recording a...   \n",
       "10                           card report application identity consent service credit identity applicant   \n",
       "11  ticket offer ticket reward card information offer minute screen decision refer bank chase bank n...   \n",
       "14  son chase account fund chase bank account money son check money chase bank money time check owne...   \n",
       "15                                                                                              inquiry   \n",
       "17  notice account debit card branch customer service representative account branch fund deposit pla...   \n",
       "20  summer month decline income employment month payment extension auto loan company chase past year...   \n",
       "21  payment retailer use pay chase website scam website confirmation product response inquiry order ...   \n",
       "23                                                  chase credit card datum credit report company issue   \n",
       "24                                                                         mishandle account chase auto   \n",
       "26  time attempt inquiry remove creditor inquiry report attempt chase bank bureau inquiry person car...   \n",
       "27   account code bonus term everything account deposit bonus day deposit account coupon code day bonus   \n",
       "30  concern bank charge overdraft fee alert balance fee balance transaction need chase order charge ...   \n",
       "32  chase amazon card decline catering order place brother funeral amount chase noon today number ch...   \n",
       "35  saving account bonus bonus auto transfer check transfer fund checking account fund account reque...   \n",
       "40                              sofa love seat table chair debit card charge visa claim furniture money   \n",
       "42                                                     card today email deposit money bank account gone   \n",
       "43  chase email today title information regard change chase account title ad communication bind arbi...   \n",
       "45  purchase amount transaction dispute case charge account credit charge charge credit debt card ba...   \n",
       "48  follow question access information reason access information chase check account routing number ...   \n",
       "50                    citizen company time share company nothing refund credit card information company   \n",
       "52  roommate chase debit card driver license money account pin phone password room card money chase ...   \n",
       "57                                                     loan modification chase runaround mo payment doc   \n",
       "58  purchase payment payment closing date statement statement purchase balance month statement purch...   \n",
       "59  reward point month chase bonus freedom page request time image attach error chase week customer ...   \n",
       "63                                                   transaction i d charge service refund card account   \n",
       "64  chase market credit card credit style marketing swa chase card online triangle waste time money ...   \n",
       "65  chase credit card time offer reward point companion pass month link provide credit card offer ti...   \n",
       "69    someone call state felony commit security number name check account asset state police department   \n",
       "\n",
       "                          Topic  \n",
       "1                 Mortgage/Loan  \n",
       "2   Credit card or prepaid card  \n",
       "10      Theft/Dispute Reporting  \n",
       "11      Theft/Dispute Reporting  \n",
       "14        Bank Account services  \n",
       "15      Theft/Dispute Reporting  \n",
       "17        Bank Account services  \n",
       "20                Mortgage/Loan  \n",
       "21                       Others  \n",
       "23      Theft/Dispute Reporting  \n",
       "24        Bank Account services  \n",
       "26      Theft/Dispute Reporting  \n",
       "27        Bank Account services  \n",
       "30                       Others  \n",
       "32  Credit card or prepaid card  \n",
       "35        Bank Account services  \n",
       "40                       Others  \n",
       "42        Bank Account services  \n",
       "43        Bank Account services  \n",
       "45                       Others  \n",
       "48      Theft/Dispute Reporting  \n",
       "50  Credit card or prepaid card  \n",
       "52  Credit card or prepaid card  \n",
       "57                Mortgage/Loan  \n",
       "58                Mortgage/Loan  \n",
       "59  Credit card or prepaid card  \n",
       "63                       Others  \n",
       "64  Credit card or prepaid card  \n",
       "65  Credit card or prepaid card  \n",
       "69        Bank Account services  "
      ]
     },
     "execution_count": 58,
     "metadata": {},
     "output_type": "execute_result"
    }
   ],
   "source": [
    "df_clean.head(30)"
   ]
  },
  {
   "cell_type": "markdown",
   "metadata": {
    "id": "7Mu0QBOcJrGH"
   },
   "source": [
    "## Supervised model to predict any new complaints to the relevant Topics.\n",
    "\n",
    "You have now build the model to create the topics for each complaints.Now in the below section you will use them to classify any new complaints.\n",
    "\n",
    "Since you will be using supervised learning technique we have to convert the topic names to numbers(numpy arrays only understand numbers)"
   ]
  },
  {
   "cell_type": "code",
   "execution_count": 59,
   "metadata": {
    "id": "_U8J3J8wJrGH"
   },
   "outputs": [],
   "source": [
    "#Create the dictionary again of Topic names and Topics\n",
    "\n",
    "Topic_names = {\"Bank Account services\":0,\n",
    "               \"Credit card or prepaid card\":1, \n",
    "               \"Mortgage/Loan\":2,\n",
    "               \"Theft/Dispute Reporting\":3,\n",
    "               \"Others\":4}\n",
    "#Replace Topics with Topic Names\n",
    "df_clean['Topic'] = df_clean['Topic'].replace(Topic_names)"
   ]
  },
  {
   "cell_type": "code",
   "execution_count": 60,
   "metadata": {
    "id": "BWIgJUkQJrGH"
   },
   "outputs": [
    {
     "data": {
      "text/html": [
       "<div>\n",
       "<style scoped>\n",
       "    .dataframe tbody tr th:only-of-type {\n",
       "        vertical-align: middle;\n",
       "    }\n",
       "\n",
       "    .dataframe tbody tr th {\n",
       "        vertical-align: top;\n",
       "    }\n",
       "\n",
       "    .dataframe thead th {\n",
       "        text-align: right;\n",
       "    }\n",
       "</style>\n",
       "<table border=\"1\" class=\"dataframe\">\n",
       "  <thead>\n",
       "    <tr style=\"text-align: right;\">\n",
       "      <th></th>\n",
       "      <th>complaints</th>\n",
       "      <th>lemmatized</th>\n",
       "      <th>complaint_POS_removed</th>\n",
       "      <th>Complaint_clean</th>\n",
       "      <th>Topic</th>\n",
       "    </tr>\n",
       "  </thead>\n",
       "  <tbody>\n",
       "    <tr>\n",
       "      <th>1</th>\n",
       "      <td>good morning my name is   and i appreciate it if you could help me put a stop to chase bank card...</td>\n",
       "      <td>good morning my name be    and I appreciate it if you could help I put a stop to chase bank card...</td>\n",
       "      <td>morning name stop bank service debt verification statement bank debt mail month debt right infor...</td>\n",
       "      <td>morning name stop bank service debt verification statement bank debt mail month debt right infor...</td>\n",
       "      <td>2</td>\n",
       "    </tr>\n",
       "    <tr>\n",
       "      <th>2</th>\n",
       "      <td>i upgraded my   card in  and was told by the agent who did the upgrade my anniversary date would...</td>\n",
       "      <td>I upgrade my    card in   and be tell by the agent who do the upgrade my anniversary date would ...</td>\n",
       "      <td>card agent anniversary date agent information order account anniversary date consent recording a...</td>\n",
       "      <td>card agent anniversary date agent information order account anniversary date consent recording a...</td>\n",
       "      <td>1</td>\n",
       "    </tr>\n",
       "    <tr>\n",
       "      <th>10</th>\n",
       "      <td>chase card was reported on  however fraudulent application have been submitted my identity witho...</td>\n",
       "      <td>chase card be report on   however fraudulent application have be submit my identity without my c...</td>\n",
       "      <td>card report application identity consent service credit identity applicant</td>\n",
       "      <td>card report application identity consent service credit identity applicant</td>\n",
       "      <td>3</td>\n",
       "    </tr>\n",
       "    <tr>\n",
       "      <th>11</th>\n",
       "      <td>on  while trying to book a     ticket i came across an offer for  to be applied towards the tick...</td>\n",
       "      <td>on   while try to book a      ticket I come across an offer for   to be apply towards the ticket...</td>\n",
       "      <td>ticket offer ticket reward card information offer minute screen decision refer bank chase bank n...</td>\n",
       "      <td>ticket offer ticket reward card information offer minute screen decision refer bank chase bank n...</td>\n",
       "      <td>3</td>\n",
       "    </tr>\n",
       "    <tr>\n",
       "      <th>14</th>\n",
       "      <td>my grand son give me check for  i deposit it into my chase account after fund clear my chase ban...</td>\n",
       "      <td>my grand son give I check for   I deposit it into my chase account after fund clear my chase ban...</td>\n",
       "      <td>son chase account fund chase bank account money son check money chase bank money time check owne...</td>\n",
       "      <td>son chase account fund chase bank account money son check money chase bank money time check owne...</td>\n",
       "      <td>0</td>\n",
       "    </tr>\n",
       "    <tr>\n",
       "      <th>...</th>\n",
       "      <td>...</td>\n",
       "      <td>...</td>\n",
       "      <td>...</td>\n",
       "      <td>...</td>\n",
       "      <td>...</td>\n",
       "    </tr>\n",
       "    <tr>\n",
       "      <th>78303</th>\n",
       "      <td>after being a chase card customer for well over a decade was offered multiple solicitations for ...</td>\n",
       "      <td>after be a chase card customer for well over a decade be offer multiple solicitation for acquire...</td>\n",
       "      <td>chase card customer decade solicitation credit card chase bonus airline mile hotel point card fe...</td>\n",
       "      <td>chase card customer decade solicitation credit card chase bonus airline mile hotel point card fe...</td>\n",
       "      <td>1</td>\n",
       "    </tr>\n",
       "    <tr>\n",
       "      <th>78309</th>\n",
       "      <td>on wednesday  i called chas my   visa credit card provider and asked how to make a claim under t...</td>\n",
       "      <td>on wednesday   I call cha my    visa credit card provider and ask how to make a claim under thei...</td>\n",
       "      <td>cha visa credit card provider claim purchase protection benefit school textbook year daughter sc...</td>\n",
       "      <td>cha visa credit card provider claim purchase protection benefit school textbook year daughter sc...</td>\n",
       "      <td>4</td>\n",
       "    </tr>\n",
       "    <tr>\n",
       "      <th>78310</th>\n",
       "      <td>i am not familiar with  pay and did not understand the great risk this provides to consumers i b...</td>\n",
       "      <td>I be not familiar with   pay and do not understand the great risk this provide to consumer I bel...</td>\n",
       "      <td>risk consumer chase bank app chase year banking merchant merchant inquiry communication website ...</td>\n",
       "      <td>risk consumer chase bank app chase year banking merchant merchant inquiry communication website ...</td>\n",
       "      <td>4</td>\n",
       "    </tr>\n",
       "    <tr>\n",
       "      <th>78311</th>\n",
       "      <td>i have had flawless credit for  yrs ive had chase credit cards  chase freedom  specifically sinc...</td>\n",
       "      <td>I have have flawless credit for   yrs I ve have chase credit card   chase freedom   specifically...</td>\n",
       "      <td>credit chase credit card freedom problem balance transfer life plenty experience balance transfe...</td>\n",
       "      <td>credit chase credit card freedom problem balance transfer life plenty experience balance transfe...</td>\n",
       "      <td>1</td>\n",
       "    </tr>\n",
       "    <tr>\n",
       "      <th>78312</th>\n",
       "      <td>roughly  years ago i closed out my accounts with jp morgan chase bank  in order to close out an ...</td>\n",
       "      <td>roughly   year ago I close out my account with jp morgan chase bank   in order to close out an u...</td>\n",
       "      <td>year account order line credit account payment account payment credit report year state dollar p...</td>\n",
       "      <td>year account order line credit account payment account payment credit report year state dollar p...</td>\n",
       "      <td>2</td>\n",
       "    </tr>\n",
       "  </tbody>\n",
       "</table>\n",
       "<p>21072 rows × 5 columns</p>\n",
       "</div>"
      ],
      "text/plain": [
       "                                                                                                complaints  \\\n",
       "1      good morning my name is   and i appreciate it if you could help me put a stop to chase bank card...   \n",
       "2      i upgraded my   card in  and was told by the agent who did the upgrade my anniversary date would...   \n",
       "10     chase card was reported on  however fraudulent application have been submitted my identity witho...   \n",
       "11     on  while trying to book a     ticket i came across an offer for  to be applied towards the tick...   \n",
       "14     my grand son give me check for  i deposit it into my chase account after fund clear my chase ban...   \n",
       "...                                                                                                    ...   \n",
       "78303  after being a chase card customer for well over a decade was offered multiple solicitations for ...   \n",
       "78309  on wednesday  i called chas my   visa credit card provider and asked how to make a claim under t...   \n",
       "78310  i am not familiar with  pay and did not understand the great risk this provides to consumers i b...   \n",
       "78311  i have had flawless credit for  yrs ive had chase credit cards  chase freedom  specifically sinc...   \n",
       "78312  roughly  years ago i closed out my accounts with jp morgan chase bank  in order to close out an ...   \n",
       "\n",
       "                                                                                                lemmatized  \\\n",
       "1      good morning my name be    and I appreciate it if you could help I put a stop to chase bank card...   \n",
       "2      I upgrade my    card in   and be tell by the agent who do the upgrade my anniversary date would ...   \n",
       "10     chase card be report on   however fraudulent application have be submit my identity without my c...   \n",
       "11     on   while try to book a      ticket I come across an offer for   to be apply towards the ticket...   \n",
       "14     my grand son give I check for   I deposit it into my chase account after fund clear my chase ban...   \n",
       "...                                                                                                    ...   \n",
       "78303  after be a chase card customer for well over a decade be offer multiple solicitation for acquire...   \n",
       "78309  on wednesday   I call cha my    visa credit card provider and ask how to make a claim under thei...   \n",
       "78310  I be not familiar with   pay and do not understand the great risk this provide to consumer I bel...   \n",
       "78311  I have have flawless credit for   yrs I ve have chase credit card   chase freedom   specifically...   \n",
       "78312  roughly   year ago I close out my account with jp morgan chase bank   in order to close out an u...   \n",
       "\n",
       "                                                                                     complaint_POS_removed  \\\n",
       "1      morning name stop bank service debt verification statement bank debt mail month debt right infor...   \n",
       "2      card agent anniversary date agent information order account anniversary date consent recording a...   \n",
       "10                              card report application identity consent service credit identity applicant   \n",
       "11     ticket offer ticket reward card information offer minute screen decision refer bank chase bank n...   \n",
       "14     son chase account fund chase bank account money son check money chase bank money time check owne...   \n",
       "...                                                                                                    ...   \n",
       "78303  chase card customer decade solicitation credit card chase bonus airline mile hotel point card fe...   \n",
       "78309  cha visa credit card provider claim purchase protection benefit school textbook year daughter sc...   \n",
       "78310  risk consumer chase bank app chase year banking merchant merchant inquiry communication website ...   \n",
       "78311  credit chase credit card freedom problem balance transfer life plenty experience balance transfe...   \n",
       "78312  year account order line credit account payment account payment credit report year state dollar p...   \n",
       "\n",
       "                                                                                           Complaint_clean  \\\n",
       "1      morning name stop bank service debt verification statement bank debt mail month debt right infor...   \n",
       "2      card agent anniversary date agent information order account anniversary date consent recording a...   \n",
       "10                              card report application identity consent service credit identity applicant   \n",
       "11     ticket offer ticket reward card information offer minute screen decision refer bank chase bank n...   \n",
       "14     son chase account fund chase bank account money son check money chase bank money time check owne...   \n",
       "...                                                                                                    ...   \n",
       "78303  chase card customer decade solicitation credit card chase bonus airline mile hotel point card fe...   \n",
       "78309  cha visa credit card provider claim purchase protection benefit school textbook year daughter sc...   \n",
       "78310  risk consumer chase bank app chase year banking merchant merchant inquiry communication website ...   \n",
       "78311  credit chase credit card freedom problem balance transfer life plenty experience balance transfe...   \n",
       "78312  year account order line credit account payment account payment credit report year state dollar p...   \n",
       "\n",
       "       Topic  \n",
       "1          2  \n",
       "2          1  \n",
       "10         3  \n",
       "11         3  \n",
       "14         0  \n",
       "...      ...  \n",
       "78303      1  \n",
       "78309      4  \n",
       "78310      4  \n",
       "78311      1  \n",
       "78312      2  \n",
       "\n",
       "[21072 rows x 5 columns]"
      ]
     },
     "execution_count": 60,
     "metadata": {},
     "output_type": "execute_result"
    }
   ],
   "source": [
    "df_clean"
   ]
  },
  {
   "cell_type": "code",
   "execution_count": 61,
   "metadata": {
    "id": "Xx-FrbkWJrGH"
   },
   "outputs": [],
   "source": [
    "#Keep the columns\"complaint_what_happened\" & \"Topic\" only in the new dataframe --> training_data\n",
    "training_data= df_clean[[\"complaints\",\"Topic\"]]"
   ]
  },
  {
   "cell_type": "code",
   "execution_count": 62,
   "metadata": {
    "id": "lVg2pa12JrGI"
   },
   "outputs": [
    {
     "data": {
      "text/html": [
       "<div>\n",
       "<style scoped>\n",
       "    .dataframe tbody tr th:only-of-type {\n",
       "        vertical-align: middle;\n",
       "    }\n",
       "\n",
       "    .dataframe tbody tr th {\n",
       "        vertical-align: top;\n",
       "    }\n",
       "\n",
       "    .dataframe thead th {\n",
       "        text-align: right;\n",
       "    }\n",
       "</style>\n",
       "<table border=\"1\" class=\"dataframe\">\n",
       "  <thead>\n",
       "    <tr style=\"text-align: right;\">\n",
       "      <th></th>\n",
       "      <th>complaints</th>\n",
       "      <th>Topic</th>\n",
       "    </tr>\n",
       "  </thead>\n",
       "  <tbody>\n",
       "    <tr>\n",
       "      <th>1</th>\n",
       "      <td>good morning my name is   and i appreciate it if you could help me put a stop to chase bank card...</td>\n",
       "      <td>2</td>\n",
       "    </tr>\n",
       "    <tr>\n",
       "      <th>2</th>\n",
       "      <td>i upgraded my   card in  and was told by the agent who did the upgrade my anniversary date would...</td>\n",
       "      <td>1</td>\n",
       "    </tr>\n",
       "    <tr>\n",
       "      <th>10</th>\n",
       "      <td>chase card was reported on  however fraudulent application have been submitted my identity witho...</td>\n",
       "      <td>3</td>\n",
       "    </tr>\n",
       "    <tr>\n",
       "      <th>11</th>\n",
       "      <td>on  while trying to book a     ticket i came across an offer for  to be applied towards the tick...</td>\n",
       "      <td>3</td>\n",
       "    </tr>\n",
       "    <tr>\n",
       "      <th>14</th>\n",
       "      <td>my grand son give me check for  i deposit it into my chase account after fund clear my chase ban...</td>\n",
       "      <td>0</td>\n",
       "    </tr>\n",
       "    <tr>\n",
       "      <th>...</th>\n",
       "      <td>...</td>\n",
       "      <td>...</td>\n",
       "    </tr>\n",
       "    <tr>\n",
       "      <th>78303</th>\n",
       "      <td>after being a chase card customer for well over a decade was offered multiple solicitations for ...</td>\n",
       "      <td>1</td>\n",
       "    </tr>\n",
       "    <tr>\n",
       "      <th>78309</th>\n",
       "      <td>on wednesday  i called chas my   visa credit card provider and asked how to make a claim under t...</td>\n",
       "      <td>4</td>\n",
       "    </tr>\n",
       "    <tr>\n",
       "      <th>78310</th>\n",
       "      <td>i am not familiar with  pay and did not understand the great risk this provides to consumers i b...</td>\n",
       "      <td>4</td>\n",
       "    </tr>\n",
       "    <tr>\n",
       "      <th>78311</th>\n",
       "      <td>i have had flawless credit for  yrs ive had chase credit cards  chase freedom  specifically sinc...</td>\n",
       "      <td>1</td>\n",
       "    </tr>\n",
       "    <tr>\n",
       "      <th>78312</th>\n",
       "      <td>roughly  years ago i closed out my accounts with jp morgan chase bank  in order to close out an ...</td>\n",
       "      <td>2</td>\n",
       "    </tr>\n",
       "  </tbody>\n",
       "</table>\n",
       "<p>21072 rows × 2 columns</p>\n",
       "</div>"
      ],
      "text/plain": [
       "                                                                                                complaints  \\\n",
       "1      good morning my name is   and i appreciate it if you could help me put a stop to chase bank card...   \n",
       "2      i upgraded my   card in  and was told by the agent who did the upgrade my anniversary date would...   \n",
       "10     chase card was reported on  however fraudulent application have been submitted my identity witho...   \n",
       "11     on  while trying to book a     ticket i came across an offer for  to be applied towards the tick...   \n",
       "14     my grand son give me check for  i deposit it into my chase account after fund clear my chase ban...   \n",
       "...                                                                                                    ...   \n",
       "78303  after being a chase card customer for well over a decade was offered multiple solicitations for ...   \n",
       "78309  on wednesday  i called chas my   visa credit card provider and asked how to make a claim under t...   \n",
       "78310  i am not familiar with  pay and did not understand the great risk this provides to consumers i b...   \n",
       "78311  i have had flawless credit for  yrs ive had chase credit cards  chase freedom  specifically sinc...   \n",
       "78312  roughly  years ago i closed out my accounts with jp morgan chase bank  in order to close out an ...   \n",
       "\n",
       "       Topic  \n",
       "1          2  \n",
       "2          1  \n",
       "10         3  \n",
       "11         3  \n",
       "14         0  \n",
       "...      ...  \n",
       "78303      1  \n",
       "78309      4  \n",
       "78310      4  \n",
       "78311      1  \n",
       "78312      2  \n",
       "\n",
       "[21072 rows x 2 columns]"
      ]
     },
     "execution_count": 62,
     "metadata": {},
     "output_type": "execute_result"
    }
   ],
   "source": [
    "training_data"
   ]
  },
  {
   "cell_type": "markdown",
   "metadata": {
    "id": "280Vbqk-7a8M"
   },
   "source": [
    "####Apply the supervised models on the training data created. In this process, you have to do the following:\n",
    "* Create the vector counts using Count Vectoriser\n",
    "* Transform the word vecotr to tf-idf\n",
    "* Create the train & test data using the train_test_split on the tf-idf & topics\n"
   ]
  },
  {
   "cell_type": "code",
   "execution_count": 63,
   "metadata": {
    "id": "oUlQpgkzJrGI"
   },
   "outputs": [],
   "source": [
    "#Write your code to get the Vector count\n",
    "\n",
    "cv = CountVectorizer()\n",
    "X_train = cv.fit_transform(training_data['complaints'])\n",
    "\n",
    "#Write your code here to transform the word vector to tf-idf\n",
    "tfidf_transform= TfidfTransformer()\n",
    "X_train = tfidf_transform.fit_transform(X_train)\n"
   ]
  },
  {
   "cell_type": "code",
   "execution_count": 64,
   "metadata": {},
   "outputs": [],
   "source": [
    "# Dump cv and tfidf so that we can use it for testing purpose\n",
    "pickle.dump(cv.vocabulary_, open(\"cvvector.pkl\",\"wb\"))"
   ]
  },
  {
   "cell_type": "code",
   "execution_count": 65,
   "metadata": {},
   "outputs": [],
   "source": [
    "pickle.dump(tfidf_transform, open(\"tfidfvector.pkl\",\"wb\"))"
   ]
  },
  {
   "cell_type": "code",
   "execution_count": 66,
   "metadata": {},
   "outputs": [
    {
     "name": "stdout",
     "output_type": "stream",
     "text": [
      "X_train Shape: (15804, 32864)\n",
      "y_train Shape: (15804,)\n",
      "X_test Shape: (5268, 32864)\n",
      "y_test Shape: (5268,)\n"
     ]
    }
   ],
   "source": [
    "# split the data into train and test\n",
    "X_train, X_test, y_train, y_test = train_test_split(X_train, training_data.Topic, test_size=0.25, random_state=42)\n",
    "\n",
    "print(f\"X_train Shape: {X_train.shape}\")\n",
    "print(f\"y_train Shape: {y_train.shape}\")\n",
    "print(f\"X_test Shape: {X_test.shape}\")\n",
    "print(f\"y_test Shape: {y_test.shape}\")"
   ]
  },
  {
   "cell_type": "markdown",
   "metadata": {
    "id": "uMU3vj6w-wqL"
   },
   "source": [
    "You have to try atleast 3 models on the train & test data from these options:\n",
    "* Logistic regression\n",
    "* Decision Tree\n",
    "* Random Forest\n",
    "* Naive Bayes (optional)\n",
    "\n",
    "**Using the required evaluation metrics judge the tried models and select the ones performing the best**"
   ]
  },
  {
   "cell_type": "markdown",
   "metadata": {},
   "source": [
    "### Naive Bayes"
   ]
  },
  {
   "cell_type": "code",
   "execution_count": 67,
   "metadata": {
    "id": "udLHpPsZJrGI"
   },
   "outputs": [
    {
     "data": {
      "text/plain": [
       "MultinomialNB()"
      ]
     },
     "execution_count": 67,
     "metadata": {},
     "output_type": "execute_result"
    }
   ],
   "source": [
    "# Write your code here to build any 3 models and evaluate them using the required metrics\n",
    "from sklearn.naive_bayes import MultinomialNB\n",
    "model = MultinomialNB()\n",
    "model.fit(X_train, y_train)"
   ]
  },
  {
   "cell_type": "code",
   "execution_count": 68,
   "metadata": {},
   "outputs": [],
   "source": [
    "y_pred = model.predict(X_test)"
   ]
  },
  {
   "cell_type": "code",
   "execution_count": 69,
   "metadata": {},
   "outputs": [
    {
     "data": {
      "text/plain": [
       "0.6660098087399351"
      ]
     },
     "execution_count": 69,
     "metadata": {},
     "output_type": "execute_result"
    }
   ],
   "source": [
    "f1_score(y_test, y_pred, average=\"weighted\")"
   ]
  },
  {
   "cell_type": "markdown",
   "metadata": {},
   "source": [
    "#### hyper parameter tuning"
   ]
  },
  {
   "cell_type": "code",
   "execution_count": 70,
   "metadata": {},
   "outputs": [
    {
     "name": "stdout",
     "output_type": "stream",
     "text": [
      "Fitting 10 folds for each of 6 candidates, totalling 60 fits\n",
      "{'alpha': 0.1}\n"
     ]
    }
   ],
   "source": [
    "# lets apply grid search\n",
    "# Hyperparameter tuning for best result\n",
    "param = {\n",
    "    'alpha': (1, 0.1, 0.01, 0.001, 0.0001, 0.00001)\n",
    "}\n",
    "\n",
    "grid_model = GridSearchCV(estimator=model, \n",
    "                       param_grid=param,\n",
    "                       verbose=1,\n",
    "                       scoring='f1_weighted',\n",
    "                       n_jobs=-1,\n",
    "                       cv=10)\n",
    "grid_model.fit(X_train, y_train)\n",
    "print(grid_model.best_params_)"
   ]
  },
  {
   "cell_type": "code",
   "execution_count": 71,
   "metadata": {},
   "outputs": [],
   "source": [
    "y_pred = grid_model.predict(X_test)"
   ]
  },
  {
   "cell_type": "code",
   "execution_count": 72,
   "metadata": {},
   "outputs": [
    {
     "data": {
      "text/plain": [
       "0.7565530774117878"
      ]
     },
     "execution_count": 72,
     "metadata": {},
     "output_type": "execute_result"
    }
   ],
   "source": [
    "f1 = f1_score(y_test, y_pred, average=\"weighted\")\n",
    "f1"
   ]
  },
  {
   "cell_type": "code",
   "execution_count": 73,
   "metadata": {},
   "outputs": [
    {
     "data": {
      "text/html": [
       "<div>\n",
       "<style scoped>\n",
       "    .dataframe tbody tr th:only-of-type {\n",
       "        vertical-align: middle;\n",
       "    }\n",
       "\n",
       "    .dataframe tbody tr th {\n",
       "        vertical-align: top;\n",
       "    }\n",
       "\n",
       "    .dataframe thead th {\n",
       "        text-align: right;\n",
       "    }\n",
       "</style>\n",
       "<table border=\"1\" class=\"dataframe\">\n",
       "  <thead>\n",
       "    <tr style=\"text-align: right;\">\n",
       "      <th></th>\n",
       "      <th>Model</th>\n",
       "      <th>F1 Score</th>\n",
       "    </tr>\n",
       "  </thead>\n",
       "  <tbody>\n",
       "    <tr>\n",
       "      <th>0</th>\n",
       "      <td>Multinomial Naive Bayes</td>\n",
       "      <td>0.76</td>\n",
       "    </tr>\n",
       "  </tbody>\n",
       "</table>\n",
       "</div>"
      ],
      "text/plain": [
       "                     Model  F1 Score\n",
       "0  Multinomial Naive Bayes      0.76"
      ]
     },
     "execution_count": 73,
     "metadata": {},
     "output_type": "execute_result"
    }
   ],
   "source": [
    "f1_scores = pd.DataFrame([{'Model': 'Multinomial Naive Bayes','F1 Score': round(f1, 2)}])\n",
    "f1_scores"
   ]
  },
  {
   "cell_type": "code",
   "execution_count": 74,
   "metadata": {
    "scrolled": true
   },
   "outputs": [
    {
     "name": "stdout",
     "output_type": "stream",
     "text": [
      "                             precision    recall  f1-score   support\n",
      "\n",
      "      Bank Account services       0.74      0.86      0.79      1320\n",
      "Credit card or prepaid card       0.74      0.63      0.68      1033\n",
      "                     Others       0.78      0.87      0.82      1269\n",
      "    Theft/Dispute Reporting       0.84      0.62      0.71       558\n",
      "              Mortgage/Loan       0.75      0.71      0.73      1088\n",
      "\n",
      "                   accuracy                           0.76      5268\n",
      "                  macro avg       0.77      0.74      0.75      5268\n",
      "               weighted avg       0.76      0.76      0.76      5268\n",
      "\n"
     ]
    }
   ],
   "source": [
    "print(classification_report(y_test, y_pred, target_names=[\"Bank Account services\", \"Credit card or prepaid card\", \"Others\", \"Theft/Dispute Reporting\",\n",
    "\"Mortgage/Loan\"]))"
   ]
  },
  {
   "cell_type": "markdown",
   "metadata": {},
   "source": [
    "#### Observation:\n",
    "- The overall accuracy of the Naive Bayes model is **76%**.\n",
    "- Precision and Recall are **77%** and **74%** respectively.\n",
    "- The result is poor and not good enough"
   ]
  },
  {
   "cell_type": "markdown",
   "metadata": {},
   "source": [
    "### Logistic Regression"
   ]
  },
  {
   "cell_type": "code",
   "execution_count": 75,
   "metadata": {},
   "outputs": [],
   "source": [
    "lr = LogisticRegression(solver='liblinear') \n",
    "lr.fit(X_train, y_train)\n",
    "y_pred = lr.predict(X_test)"
   ]
  },
  {
   "cell_type": "code",
   "execution_count": 76,
   "metadata": {},
   "outputs": [
    {
     "data": {
      "text/plain": [
       "0.9117670568396552"
      ]
     },
     "execution_count": 76,
     "metadata": {},
     "output_type": "execute_result"
    }
   ],
   "source": [
    "f1_score(y_test, y_pred, average=\"weighted\")"
   ]
  },
  {
   "cell_type": "markdown",
   "metadata": {},
   "source": [
    "#### hyper parameter tuning"
   ]
  },
  {
   "cell_type": "code",
   "execution_count": 77,
   "metadata": {},
   "outputs": [
    {
     "name": "stdout",
     "output_type": "stream",
     "text": [
      "Fitting 5 folds for each of 12 candidates, totalling 60 fits\n"
     ]
    },
    {
     "data": {
      "text/plain": [
       "GridSearchCV(cv=5, estimator=LogisticRegression(solver='liblinear'), n_jobs=-1,\n",
       "             param_grid={'C': array([1.00000000e-04, 3.98107171e-03, 1.58489319e-01, 6.30957344e+00,\n",
       "       2.51188643e+02, 1.00000000e+04]),\n",
       "                         'penalty': ['l1', 'l2']},\n",
       "             scoring='f1_weighted', verbose=1)"
      ]
     },
     "execution_count": 77,
     "metadata": {},
     "output_type": "execute_result"
    }
   ],
   "source": [
    "param_lr = {\n",
    "    'C': np.logspace(-4, 4, 6),\n",
    "    'penalty': ['l1', 'l2']\n",
    "}\n",
    "\n",
    "grid_lr = GridSearchCV(estimator=lr, \n",
    "                       param_grid=param_lr,\n",
    "                       verbose=1,\n",
    "                       scoring='f1_weighted',\n",
    "                       n_jobs=-1,\n",
    "                       cv=5)\n",
    "grid_lr.fit(X_train, y_train)"
   ]
  },
  {
   "cell_type": "code",
   "execution_count": 78,
   "metadata": {},
   "outputs": [
    {
     "name": "stdout",
     "output_type": "stream",
     "text": [
      "{'C': 6.309573444801943, 'penalty': 'l1'}\n"
     ]
    }
   ],
   "source": [
    "print(grid_lr.best_params_)"
   ]
  },
  {
   "cell_type": "code",
   "execution_count": 79,
   "metadata": {},
   "outputs": [],
   "source": [
    "y_pred = grid_lr.predict(X_test)"
   ]
  },
  {
   "cell_type": "code",
   "execution_count": 80,
   "metadata": {},
   "outputs": [
    {
     "data": {
      "text/plain": [
       "0.9120024768775834"
      ]
     },
     "execution_count": 80,
     "metadata": {},
     "output_type": "execute_result"
    }
   ],
   "source": [
    "f1 = f1_score(y_test, y_pred, average=\"weighted\")\n",
    "f1"
   ]
  },
  {
   "cell_type": "code",
   "execution_count": 81,
   "metadata": {},
   "outputs": [
    {
     "name": "stdout",
     "output_type": "stream",
     "text": [
      "                             precision    recall  f1-score   support\n",
      "\n",
      "      Bank Account services       0.92      0.91      0.92      1320\n",
      "Credit card or prepaid card       0.91      0.93      0.92      1033\n",
      "                     Others       0.93      0.95      0.94      1269\n",
      "    Theft/Dispute Reporting       0.91      0.89      0.90       558\n",
      "              Mortgage/Loan       0.88      0.87      0.88      1088\n",
      "\n",
      "                   accuracy                           0.91      5268\n",
      "                  macro avg       0.91      0.91      0.91      5268\n",
      "               weighted avg       0.91      0.91      0.91      5268\n",
      "\n"
     ]
    }
   ],
   "source": [
    "print(classification_report(y_test, y_pred, target_names=[\"Bank Account services\", \"Credit card or prepaid card\", \"Others\", \"Theft/Dispute Reporting\",\n",
    "\"Mortgage/Loan\"]))"
   ]
  },
  {
   "cell_type": "code",
   "execution_count": 82,
   "metadata": {},
   "outputs": [],
   "source": [
    "f1_scores = f1_scores.append({'Model': 'Logistic Regression','F1 Score': round(f1, 2)}, ignore_index = True)"
   ]
  },
  {
   "cell_type": "code",
   "execution_count": 83,
   "metadata": {
    "scrolled": true
   },
   "outputs": [
    {
     "data": {
      "text/html": [
       "<div>\n",
       "<style scoped>\n",
       "    .dataframe tbody tr th:only-of-type {\n",
       "        vertical-align: middle;\n",
       "    }\n",
       "\n",
       "    .dataframe tbody tr th {\n",
       "        vertical-align: top;\n",
       "    }\n",
       "\n",
       "    .dataframe thead th {\n",
       "        text-align: right;\n",
       "    }\n",
       "</style>\n",
       "<table border=\"1\" class=\"dataframe\">\n",
       "  <thead>\n",
       "    <tr style=\"text-align: right;\">\n",
       "      <th></th>\n",
       "      <th>Model</th>\n",
       "      <th>F1 Score</th>\n",
       "    </tr>\n",
       "  </thead>\n",
       "  <tbody>\n",
       "    <tr>\n",
       "      <th>0</th>\n",
       "      <td>Multinomial Naive Bayes</td>\n",
       "      <td>0.76</td>\n",
       "    </tr>\n",
       "    <tr>\n",
       "      <th>1</th>\n",
       "      <td>Logistic Regression</td>\n",
       "      <td>0.91</td>\n",
       "    </tr>\n",
       "  </tbody>\n",
       "</table>\n",
       "</div>"
      ],
      "text/plain": [
       "                     Model  F1 Score\n",
       "0  Multinomial Naive Bayes      0.76\n",
       "1      Logistic Regression      0.91"
      ]
     },
     "execution_count": 83,
     "metadata": {},
     "output_type": "execute_result"
    }
   ],
   "source": [
    "f1_scores"
   ]
  },
  {
   "cell_type": "markdown",
   "metadata": {},
   "source": [
    "#### Observation:\n",
    "- The overall accuracy of the Logistic Regression model is **91%**.\n",
    "- Precision and Recall are **91%** and **91%** respectively which makes this is a very good model."
   ]
  },
  {
   "cell_type": "markdown",
   "metadata": {},
   "source": [
    "### Decision Tree"
   ]
  },
  {
   "cell_type": "code",
   "execution_count": 84,
   "metadata": {},
   "outputs": [],
   "source": [
    "from sklearn.tree import DecisionTreeClassifier\n",
    "dt = DecisionTreeClassifier()\n",
    "dt.fit(X_train, y_train)\n",
    "y_pred = dt.predict(X_test)"
   ]
  },
  {
   "cell_type": "code",
   "execution_count": 85,
   "metadata": {},
   "outputs": [
    {
     "data": {
      "text/plain": [
       "0.7641005166779928"
      ]
     },
     "execution_count": 85,
     "metadata": {},
     "output_type": "execute_result"
    }
   ],
   "source": [
    "f1_score(y_test, y_pred, average=\"weighted\")"
   ]
  },
  {
   "cell_type": "markdown",
   "metadata": {},
   "source": [
    "#### hyper parameter tuning"
   ]
  },
  {
   "cell_type": "code",
   "execution_count": 86,
   "metadata": {},
   "outputs": [],
   "source": [
    "params = {\n",
    "    'max_depth': [2, 5, 10, 20],\n",
    "    'min_samples_leaf': [5, 10, 20, 50],\n",
    "    'criterion': [\"gini\", \"entropy\"]\n",
    "}"
   ]
  },
  {
   "cell_type": "code",
   "execution_count": 87,
   "metadata": {},
   "outputs": [],
   "source": [
    "dt_grid_search = GridSearchCV(estimator=dt, \n",
    "                           param_grid=params, \n",
    "                           cv=4, n_jobs=-1, verbose=1, scoring = \"accuracy\")"
   ]
  },
  {
   "cell_type": "code",
   "execution_count": 88,
   "metadata": {},
   "outputs": [
    {
     "name": "stdout",
     "output_type": "stream",
     "text": [
      "Fitting 4 folds for each of 32 candidates, totalling 128 fits\n"
     ]
    },
    {
     "data": {
      "text/plain": [
       "GridSearchCV(cv=4, estimator=DecisionTreeClassifier(), n_jobs=-1,\n",
       "             param_grid={'criterion': ['gini', 'entropy'],\n",
       "                         'max_depth': [2, 5, 10, 20],\n",
       "                         'min_samples_leaf': [5, 10, 20, 50]},\n",
       "             scoring='accuracy', verbose=1)"
      ]
     },
     "execution_count": 88,
     "metadata": {},
     "output_type": "execute_result"
    }
   ],
   "source": [
    "dt_grid_search.fit(X_train, y_train)"
   ]
  },
  {
   "cell_type": "code",
   "execution_count": 89,
   "metadata": {},
   "outputs": [
    {
     "name": "stdout",
     "output_type": "stream",
     "text": [
      "{'criterion': 'gini', 'max_depth': 20, 'min_samples_leaf': 20}\n"
     ]
    }
   ],
   "source": [
    "print(dt_grid_search.best_params_)"
   ]
  },
  {
   "cell_type": "code",
   "execution_count": 90,
   "metadata": {},
   "outputs": [],
   "source": [
    "y_pred = dt_grid_search.predict(X_test)"
   ]
  },
  {
   "cell_type": "code",
   "execution_count": 91,
   "metadata": {},
   "outputs": [
    {
     "data": {
      "text/plain": [
       "0.7767249968013719"
      ]
     },
     "execution_count": 91,
     "metadata": {},
     "output_type": "execute_result"
    }
   ],
   "source": [
    "f1 = f1_score(y_test, y_pred, average=\"weighted\")\n",
    "f1"
   ]
  },
  {
   "cell_type": "markdown",
   "metadata": {},
   "source": [
    "Not much improvement"
   ]
  },
  {
   "cell_type": "code",
   "execution_count": 92,
   "metadata": {},
   "outputs": [
    {
     "name": "stdout",
     "output_type": "stream",
     "text": [
      "                             precision    recall  f1-score   support\n",
      "\n",
      "      Bank Account services       0.82      0.80      0.81      1320\n",
      "Credit card or prepaid card       0.74      0.79      0.77      1033\n",
      "                     Others       0.85      0.83      0.84      1269\n",
      "    Theft/Dispute Reporting       0.78      0.68      0.73       558\n",
      "              Mortgage/Loan       0.68      0.72      0.69      1088\n",
      "\n",
      "                   accuracy                           0.78      5268\n",
      "                  macro avg       0.77      0.76      0.77      5268\n",
      "               weighted avg       0.78      0.78      0.78      5268\n",
      "\n"
     ]
    }
   ],
   "source": [
    "print(classification_report(y_test, y_pred, target_names=[\"Bank Account services\", \"Credit card or prepaid card\", \"Others\", \"Theft/Dispute Reporting\",\n",
    "\"Mortgage/Loan\"]))"
   ]
  },
  {
   "cell_type": "code",
   "execution_count": 93,
   "metadata": {},
   "outputs": [],
   "source": [
    "f1_scores = f1_scores.append({'Model': 'Decision trees','F1 Score': round(f1, 2)}, ignore_index = True)"
   ]
  },
  {
   "cell_type": "code",
   "execution_count": 94,
   "metadata": {
    "scrolled": true
   },
   "outputs": [
    {
     "data": {
      "text/html": [
       "<div>\n",
       "<style scoped>\n",
       "    .dataframe tbody tr th:only-of-type {\n",
       "        vertical-align: middle;\n",
       "    }\n",
       "\n",
       "    .dataframe tbody tr th {\n",
       "        vertical-align: top;\n",
       "    }\n",
       "\n",
       "    .dataframe thead th {\n",
       "        text-align: right;\n",
       "    }\n",
       "</style>\n",
       "<table border=\"1\" class=\"dataframe\">\n",
       "  <thead>\n",
       "    <tr style=\"text-align: right;\">\n",
       "      <th></th>\n",
       "      <th>Model</th>\n",
       "      <th>F1 Score</th>\n",
       "    </tr>\n",
       "  </thead>\n",
       "  <tbody>\n",
       "    <tr>\n",
       "      <th>0</th>\n",
       "      <td>Multinomial Naive Bayes</td>\n",
       "      <td>0.76</td>\n",
       "    </tr>\n",
       "    <tr>\n",
       "      <th>1</th>\n",
       "      <td>Logistic Regression</td>\n",
       "      <td>0.91</td>\n",
       "    </tr>\n",
       "    <tr>\n",
       "      <th>2</th>\n",
       "      <td>Decision trees</td>\n",
       "      <td>0.78</td>\n",
       "    </tr>\n",
       "  </tbody>\n",
       "</table>\n",
       "</div>"
      ],
      "text/plain": [
       "                     Model  F1 Score\n",
       "0  Multinomial Naive Bayes      0.76\n",
       "1      Logistic Regression      0.91\n",
       "2           Decision trees      0.78"
      ]
     },
     "execution_count": 94,
     "metadata": {},
     "output_type": "execute_result"
    }
   ],
   "source": [
    "f1_scores"
   ]
  },
  {
   "cell_type": "markdown",
   "metadata": {},
   "source": [
    "#### Observation:\n",
    "- The overall accuracy of the Decision Tree model is **78%**\n",
    "- Precision and Recall are **77%** and **76%** respectively\n",
    "- This model also not good enough compared to Logistic Regression where the accuracy was **91%**"
   ]
  },
  {
   "cell_type": "markdown",
   "metadata": {},
   "source": [
    "### Random forest"
   ]
  },
  {
   "cell_type": "code",
   "execution_count": 95,
   "metadata": {},
   "outputs": [],
   "source": [
    "# importing random forest classifier\n",
    "from sklearn.ensemble import RandomForestClassifier\n",
    "clf = RandomForestClassifier() \n",
    " \n",
    "# Training the model on the training dataset\n",
    "# fit function is used to train the model using the training sets as parameters\n",
    "clf.fit(X_train, y_train)\n",
    " \n",
    "# performing predictions on the test dataset\n",
    "y_pred = clf.predict(X_test)"
   ]
  },
  {
   "cell_type": "code",
   "execution_count": 96,
   "metadata": {},
   "outputs": [
    {
     "data": {
      "text/plain": [
       "0.8093245774209777"
      ]
     },
     "execution_count": 96,
     "metadata": {},
     "output_type": "execute_result"
    }
   ],
   "source": [
    "f1 = f1_score(y_test, y_pred, average=\"weighted\")\n",
    "f1"
   ]
  },
  {
   "cell_type": "code",
   "execution_count": 97,
   "metadata": {},
   "outputs": [
    {
     "name": "stdout",
     "output_type": "stream",
     "text": [
      "                             precision    recall  f1-score   support\n",
      "\n",
      "      Bank Account services       0.77      0.91      0.83      1320\n",
      "Credit card or prepaid card       0.81      0.74      0.78      1033\n",
      "                     Others       0.84      0.91      0.87      1269\n",
      "    Theft/Dispute Reporting       0.90      0.70      0.79       558\n",
      "              Mortgage/Loan       0.80      0.71      0.75      1088\n",
      "\n",
      "                   accuracy                           0.81      5268\n",
      "                  macro avg       0.82      0.79      0.80      5268\n",
      "               weighted avg       0.81      0.81      0.81      5268\n",
      "\n"
     ]
    }
   ],
   "source": [
    "print(classification_report(y_test, y_pred, target_names=[\"Bank Account services\", \"Credit card or prepaid card\", \"Others\", \"Theft/Dispute Reporting\",\n",
    "\"Mortgage/Loan\"]))"
   ]
  },
  {
   "cell_type": "code",
   "execution_count": 98,
   "metadata": {},
   "outputs": [],
   "source": [
    "f1_scores = f1_scores.append({'Model': 'Random forest','F1 Score': round(f1, 2)}, ignore_index = True)"
   ]
  },
  {
   "cell_type": "code",
   "execution_count": 99,
   "metadata": {
    "scrolled": true
   },
   "outputs": [
    {
     "data": {
      "text/html": [
       "<div>\n",
       "<style scoped>\n",
       "    .dataframe tbody tr th:only-of-type {\n",
       "        vertical-align: middle;\n",
       "    }\n",
       "\n",
       "    .dataframe tbody tr th {\n",
       "        vertical-align: top;\n",
       "    }\n",
       "\n",
       "    .dataframe thead th {\n",
       "        text-align: right;\n",
       "    }\n",
       "</style>\n",
       "<table border=\"1\" class=\"dataframe\">\n",
       "  <thead>\n",
       "    <tr style=\"text-align: right;\">\n",
       "      <th></th>\n",
       "      <th>Model</th>\n",
       "      <th>F1 Score</th>\n",
       "    </tr>\n",
       "  </thead>\n",
       "  <tbody>\n",
       "    <tr>\n",
       "      <th>0</th>\n",
       "      <td>Multinomial Naive Bayes</td>\n",
       "      <td>0.76</td>\n",
       "    </tr>\n",
       "    <tr>\n",
       "      <th>1</th>\n",
       "      <td>Logistic Regression</td>\n",
       "      <td>0.91</td>\n",
       "    </tr>\n",
       "    <tr>\n",
       "      <th>2</th>\n",
       "      <td>Decision trees</td>\n",
       "      <td>0.78</td>\n",
       "    </tr>\n",
       "    <tr>\n",
       "      <th>3</th>\n",
       "      <td>Random forest</td>\n",
       "      <td>0.81</td>\n",
       "    </tr>\n",
       "  </tbody>\n",
       "</table>\n",
       "</div>"
      ],
      "text/plain": [
       "                     Model  F1 Score\n",
       "0  Multinomial Naive Bayes      0.76\n",
       "1      Logistic Regression      0.91\n",
       "2           Decision trees      0.78\n",
       "3            Random forest      0.81"
      ]
     },
     "execution_count": 99,
     "metadata": {},
     "output_type": "execute_result"
    }
   ],
   "source": [
    "f1_scores"
   ]
  },
  {
   "cell_type": "markdown",
   "metadata": {},
   "source": [
    "#### Observation:\n",
    "- The overall accuracy of the Random Forest model is **82%**\n",
    "- Precision and Recall are **83%** and **80%** respectively\n",
    "- This is also a poor model as compared to Logistic Regression where the accuracy was **91%**"
   ]
  },
  {
   "cell_type": "markdown",
   "metadata": {},
   "source": [
    "As we can see, logistic regression is performing well compared to other models"
   ]
  },
  {
   "cell_type": "code",
   "execution_count": 100,
   "metadata": {},
   "outputs": [],
   "source": [
    "# let's save the model for prediction later on\n",
    "import pickle\n",
    "pickle.dump(grid_lr, open(\"grid_lr.pkl\", \"wb\"))"
   ]
  },
  {
   "cell_type": "markdown",
   "metadata": {},
   "source": [
    "## Predict few cases"
   ]
  },
  {
   "cell_type": "code",
   "execution_count": 101,
   "metadata": {},
   "outputs": [],
   "source": [
    "# Lets load the model for prediction\n",
    "lrmodel = pickle.load(open(\"grid_lr.pkl\",\"rb\"))\n",
    "cvec = CountVectorizer(vocabulary=pickle.load(open(\"cvvector.pkl\", \"rb\")))\n",
    "tfidf = pickle.load(open(\"tfidfvector.pkl\",\"rb\"))\n"
   ]
  },
  {
   "cell_type": "code",
   "execution_count": 102,
   "metadata": {},
   "outputs": [],
   "source": [
    "complaint = [\"I want to apply for new credit card in your bank\"]"
   ]
  },
  {
   "cell_type": "code",
   "execution_count": 103,
   "metadata": {},
   "outputs": [],
   "source": [
    "X = cvec.transform(complaint)\n",
    "X = tfidf.transform(X)\n",
    "y_pred = lrmodel.predict(X)"
   ]
  },
  {
   "cell_type": "code",
   "execution_count": 104,
   "metadata": {},
   "outputs": [],
   "source": [
    "Topic_names = {0:\"Bank Account services\",\n",
    "               1:\"Credit card or prepaid card\", \n",
    "               2:\"Mortgage/Loan\",\n",
    "               3:\"Theft/Dispute Reporting\",\n",
    "               4:\"Others\"}"
   ]
  },
  {
   "cell_type": "code",
   "execution_count": 105,
   "metadata": {},
   "outputs": [
    {
     "data": {
      "text/plain": [
       "'Credit card or prepaid card'"
      ]
     },
     "execution_count": 105,
     "metadata": {},
     "output_type": "execute_result"
    }
   ],
   "source": [
    "Topic_names[y_pred[0]]"
   ]
  },
  {
   "cell_type": "code",
   "execution_count": 106,
   "metadata": {},
   "outputs": [],
   "source": [
    "complaint = [\"i want to do my masters from reputed college. Can i get loan from your bank?\"]"
   ]
  },
  {
   "cell_type": "code",
   "execution_count": 107,
   "metadata": {},
   "outputs": [
    {
     "data": {
      "text/plain": [
       "'Mortgage/Loan'"
      ]
     },
     "execution_count": 107,
     "metadata": {},
     "output_type": "execute_result"
    }
   ],
   "source": [
    "X = cvec.transform(complaint)\n",
    "X = tfidf.transform(X)\n",
    "y_pred = lrmodel.predict(X)\n",
    "Topic_names[y_pred[0]]"
   ]
  },
  {
   "cell_type": "code",
   "execution_count": 108,
   "metadata": {},
   "outputs": [],
   "source": [
    "complaint = [\"I want to link my aadhaar to bank account\"]"
   ]
  },
  {
   "cell_type": "code",
   "execution_count": 109,
   "metadata": {},
   "outputs": [
    {
     "data": {
      "text/plain": [
       "'Bank Account services'"
      ]
     },
     "execution_count": 109,
     "metadata": {},
     "output_type": "execute_result"
    }
   ],
   "source": [
    "X = cvec.transform(complaint)\n",
    "X = tfidf.transform(X)\n",
    "y_pred = lrmodel.predict(X)\n",
    "Topic_names[y_pred[0]]"
   ]
  },
  {
   "cell_type": "code",
   "execution_count": 110,
   "metadata": {},
   "outputs": [],
   "source": [
    "complaint = [\"Can you suggest me best place for dinner?\"]"
   ]
  },
  {
   "cell_type": "code",
   "execution_count": 111,
   "metadata": {},
   "outputs": [
    {
     "data": {
      "text/plain": [
       "'Others'"
      ]
     },
     "execution_count": 111,
     "metadata": {},
     "output_type": "execute_result"
    }
   ],
   "source": [
    "X = cvec.transform(complaint)\n",
    "X = tfidf.transform(X)\n",
    "y_pred = lrmodel.predict(X)\n",
    "Topic_names[y_pred[0]]"
   ]
  },
  {
   "cell_type": "code",
   "execution_count": 112,
   "metadata": {},
   "outputs": [],
   "source": [
    "complaint = [\"i want to report an inident that occured yesterday as i lost huge amount of money by scan QR code\"]"
   ]
  },
  {
   "cell_type": "code",
   "execution_count": 113,
   "metadata": {},
   "outputs": [
    {
     "data": {
      "text/plain": [
       "'Theft/Dispute Reporting'"
      ]
     },
     "execution_count": 113,
     "metadata": {},
     "output_type": "execute_result"
    }
   ],
   "source": [
    "X = cvec.transform(complaint)\n",
    "X = tfidf.transform(X)\n",
    "y_pred = lrmodel.predict(X)\n",
    "Topic_names[y_pred[0]]"
   ]
  },
  {
   "cell_type": "markdown",
   "metadata": {},
   "source": [
    "## Overall Results"
   ]
  },
  {
   "cell_type": "markdown",
   "metadata": {},
   "source": [
    "We created four supervised models (Logistic Regression, Naive Bayes, Decision Tree Classifier and Random Forest Classifier) to predict any new complaints to the relevant Topics.\n",
    "\n",
    "**Results**\n",
    "\n",
    "*Logistic Regression*\n",
    "- The overall accuracy of the Logistic Regression model is **91%**.\n",
    "- Precision and Recall of the model are 91% and 91% respectively.\n",
    "\n",
    "*Naive Bayes*\n",
    "- The overall accuracy of the Decision Tree model is **76%**\n",
    "- Precision and Recall are 77% and 74% respectively\n",
    "\n",
    "*Decision Tree*\n",
    "- The overall accuracy of the Decision Tree model is **78%**\n",
    "- Precision and Recall are 77% and 76% respectively\n",
    "\n",
    "*Random Forest*\n",
    "- The overall accuracy of the Random Forest model is **82%**\n",
    "- Precision and Recall are 83% and 80% respectively"
   ]
  },
  {
   "cell_type": "markdown",
   "metadata": {},
   "source": [
    "## Conclusion"
   ]
  },
  {
   "cell_type": "markdown",
   "metadata": {},
   "source": [
    "- Based on the above results, Logistic Regression is the best model with an accuracy of **91%** with Precision and Recall as **91%** and **91%** respectively\n",
    "\n",
    "- The model is able to inference pretty well using logistic regression"
   ]
  }
 ],
 "metadata": {
  "colab": {
   "collapsed_sections": [
    "T9jD_6SeJrF3",
    "5DfCSbbmJrF4",
    "yYzD85nTJrGA",
    "piyLxzj6v07j",
    "280Vbqk-7a8M"
   ],
   "name": "Automatic_Ticket_Classification_Assignment.ipynb",
   "provenance": []
  },
  "kernelspec": {
   "display_name": "Python 3",
   "language": "python",
   "name": "python3"
  },
  "language_info": {
   "codemirror_mode": {
    "name": "ipython",
    "version": 3
   },
   "file_extension": ".py",
   "mimetype": "text/x-python",
   "name": "python",
   "nbconvert_exporter": "python",
   "pygments_lexer": "ipython3",
   "version": "3.8.8"
  }
 },
 "nbformat": 4,
 "nbformat_minor": 1
}
